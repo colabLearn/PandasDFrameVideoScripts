{
 "cells": [
  {
   "cell_type": "markdown",
   "id": "c76c6cf7-4258-4d10-915b-5f03cedc99b1",
   "metadata": {},
   "source": [
    "Link to assignment from episode 4:\n",
    "- .ipynb https://github.com/colabLearn/PandasDFrameVideoScripts/blob/8402456a32334b49f69829f3c23cd87bee72ab2f/Pandas_Series/Ep_5/Pre_/Ep4_Assign_.ipynb\n",
    "- .py\n",
    "https://github.com/colabLearn/PandasDFrameVideoScripts/blob/8402456a32334b49f69829f3c23cd87bee72ab2f/Pandas_Series/Ep_5/Pre_/Ep4_Assign_.py"
   ]
  },
  {
   "cell_type": "code",
   "execution_count": 1,
   "id": "053c3de9-d20d-4134-9e82-3fd4c80641de",
   "metadata": {},
   "outputs": [],
   "source": [
    "import pandas as pd"
   ]
  },
  {
   "cell_type": "code",
   "execution_count": 2,
   "id": "c11e43e2-56c0-4aa7-b25a-22767dc10fbd",
   "metadata": {},
   "outputs": [],
   "source": [
    "# Assign GitHub link to data source variable\n",
    "# Ensure to change 'blob' in the link to 'raw'\n",
    "gitRepo ='https://github.com/colabLearn/PandasDFrameVideoScripts/raw/8402456a32334b49f69829f3c23cd87bee72ab2f/testData/global_air_quality_data_10000.csv'"
   ]
  },
  {
   "cell_type": "code",
   "execution_count": 3,
   "id": "1a970ff0-6304-4289-ac0d-f2fa7f628d09",
   "metadata": {},
   "outputs": [],
   "source": [
    "# Extract student data from the CSV file using the PyArrow engine for efficient datatype handling\n",
    "global_air_quality = pd.read_csv(gitRepo, dtype_backend=\"pyarrow\", engine=\"pyarrow\")"
   ]
  },
  {
   "cell_type": "code",
   "execution_count": 4,
   "id": "0eba89e7-86fb-437d-a9ae-d04fb373de93",
   "metadata": {},
   "outputs": [
    {
     "name": "stdout",
     "output_type": "stream",
     "text": [
      "             City   Country        Date   PM2.5    PM10    NO2    SO2    CO  \\\n",
      "0         Bangkok  Thailand  2023-03-19   86.57   25.19  99.88  30.63  4.46   \n",
      "1        Istanbul    Turkey  2023-02-16   50.63   97.39  48.14   8.71   3.4   \n",
      "2  Rio de Janeiro    Brazil  2023-11-13  130.21   57.22  98.51   9.92  0.12   \n",
      "3          Mumbai     India  2023-03-16   119.7  130.52  10.96  33.03  7.74   \n",
      "4           Paris    France  2023-04-04    55.2   36.62  76.85  21.85   2.0   \n",
      "\n",
      "       O3  Temperature  Humidity  Wind Speed  \n",
      "0   36.29        17.67     59.35       13.76  \n",
      "1  144.16         3.46     67.51        6.36  \n",
      "2  179.31        25.29      29.3       12.87  \n",
      "3   38.65        23.15     99.97        7.71  \n",
      "4   67.09        16.02     90.28       14.16  \n"
     ]
    }
   ],
   "source": [
    "print(global_air_quality.head())"
   ]
  },
  {
   "cell_type": "code",
   "execution_count": 5,
   "id": "ef29e723-7166-449d-97f1-b4ced61d66c2",
   "metadata": {},
   "outputs": [],
   "source": [
    "cities = global_air_quality.City"
   ]
  },
  {
   "cell_type": "code",
   "execution_count": 6,
   "id": "6b30baca-44d9-4337-aeeb-9fa3bcdd15c5",
   "metadata": {},
   "outputs": [
    {
     "data": {
      "text/plain": [
       "0              Bangkok\n",
       "1             Istanbul\n",
       "2       Rio de Janeiro\n",
       "3               Mumbai\n",
       "4                Paris\n",
       "             ...      \n",
       "9995      Johannesburg\n",
       "9996            Berlin\n",
       "9997            Moscow\n",
       "9998            Berlin\n",
       "9999           Bangkok\n",
       "Name: City, Length: 10000, dtype: string[pyarrow]"
      ]
     },
     "execution_count": 6,
     "metadata": {},
     "output_type": "execute_result"
    }
   ],
   "source": [
    "cities"
   ]
  },
  {
   "cell_type": "markdown",
   "id": "96b5cf49-18a0-492b-b148-4f4cedc172c5",
   "metadata": {},
   "source": [
    ".apply() "
   ]
  },
  {
   "cell_type": "code",
   "execution_count": 7,
   "id": "a80f1d45-f165-4586-8eb9-f20453c448c7",
   "metadata": {},
   "outputs": [],
   "source": [
    "interested_in = ['London','New York', 'Johannesburg', 'Cairo']"
   ]
  },
  {
   "cell_type": "code",
   "execution_count": 8,
   "id": "46f9b504-3d82-4ded-9434-f4ab9ca25abd",
   "metadata": {},
   "outputs": [],
   "source": [
    "def extract_city(val):\n",
    "    if val in interested_in:\n",
    "        return val\n",
    "    else:\n",
    "        return 'others'"
   ]
  },
  {
   "cell_type": "code",
   "execution_count": 9,
   "id": "229ddf12-961a-4b34-861a-de01396c0cea",
   "metadata": {},
   "outputs": [
    {
     "name": "stdout",
     "output_type": "stream",
     "text": [
      "2.18 ms ± 18.8 µs per loop (mean ± std. dev. of 7 runs, 100 loops each)\n"
     ]
    }
   ],
   "source": [
    "%%timeit\n",
    "cities.apply(extract_city)"
   ]
  },
  {
   "cell_type": "code",
   "execution_count": 10,
   "id": "e0acc3de-0018-4748-8a4a-140c65c6afdb",
   "metadata": {},
   "outputs": [
    {
     "name": "stdout",
     "output_type": "stream",
     "text": [
      "850 µs ± 11.1 µs per loop (mean ± std. dev. of 7 runs, 1,000 loops each)\n"
     ]
    }
   ],
   "source": [
    "%%timeit\n",
    "cities.where(cities.isin(interested_in), 'others')"
   ]
  },
  {
   "cell_type": "code",
   "execution_count": 11,
   "id": "9b3465df-b732-45a6-8458-e90c07d94407",
   "metadata": {},
   "outputs": [
    {
     "data": {
      "image/jpeg": "[encoded data removed]",
      "text/plain": [
       "<IPython.core.display.Image object>"
      ]
     },
     "execution_count": 11,
     "metadata": {},
     "output_type": "execute_result"
    }
   ],
   "source": [
    "from IPython.display import Image\n",
    "Image(filename='Pre_//images//apply_.jpg')"
   ]
  },
  {
   "cell_type": "code",
   "execution_count": 12,
   "id": "1d97519b-f667-4ad9-bc6e-aa722edb33c9",
   "metadata": {},
   "outputs": [
    {
     "data": {
      "image/jpeg": "[encoded data removed]",
      "text/plain": [
       "<IPython.core.display.Image object>"
      ]
     },
     "execution_count": 12,
     "metadata": {},
     "output_type": "execute_result"
    }
   ],
   "source": [
    "Image(filename='Pre_//images//where_.jpg')"
   ]
  },
  {
   "cell_type": "code",
   "execution_count": 13,
   "id": "73b0576b-b5d5-4579-84e2-06d389c24635",
   "metadata": {},
   "outputs": [
    {
     "data": {
      "text/plain": [
       "0             others\n",
       "1             others\n",
       "2             others\n",
       "3             others\n",
       "4             others\n",
       "            ...     \n",
       "9995    Johannesburg\n",
       "9996          others\n",
       "9997          others\n",
       "9998          others\n",
       "9999          others\n",
       "Name: City, Length: 10000, dtype: string[pyarrow]"
      ]
     },
     "execution_count": 13,
     "metadata": {},
     "output_type": "execute_result"
    }
   ],
   "source": [
    "cities.mask(~cities.isin(interested_in), 'others')"
   ]
  },
  {
   "cell_type": "code",
   "execution_count": 14,
   "id": "12263a8c-4930-415a-8bc7-e81a3e7f051d",
   "metadata": {},
   "outputs": [],
   "source": [
    "first_choices = ['London','New York', 'Johannesburg', 'Cairo']\n",
    "second_choices = ['Toronto', 'Los Angeles', 'Tokyo', 'Beijing']"
   ]
  },
  {
   "cell_type": "code",
   "execution_count": 15,
   "id": "768a9609-0f31-4337-b3c0-8eef74bce7fa",
   "metadata": {},
   "outputs": [],
   "source": [
    "def extract_city_2(val):\n",
    "    if val in first_choices:\n",
    "        return val\n",
    "    elif val in second_choices:\n",
    "        return \"Second Priority\"\n",
    "    else:\n",
    "        return 'others'"
   ]
  },
  {
   "cell_type": "code",
   "execution_count": 16,
   "id": "3184047b-3ec9-44cd-aed5-72e3d6f3ff10",
   "metadata": {},
   "outputs": [
    {
     "data": {
      "text/plain": [
       "0             others\n",
       "1             others\n",
       "2             others\n",
       "3             others\n",
       "4             others\n",
       "            ...     \n",
       "9995    Johannesburg\n",
       "9996          others\n",
       "9997          others\n",
       "9998          others\n",
       "9999          others\n",
       "Name: City, Length: 10000, dtype: object"
      ]
     },
     "execution_count": 16,
     "metadata": {},
     "output_type": "execute_result"
    }
   ],
   "source": [
    "\n",
    "cities.apply(extract_city_2)"
   ]
  },
  {
   "cell_type": "code",
   "execution_count": 17,
   "id": "69abf639-3fc2-4d33-81b3-df0af87250a5",
   "metadata": {},
   "outputs": [
    {
     "name": "stdout",
     "output_type": "stream",
     "text": [
      "2.23 ms ± 130 µs per loop (mean ± std. dev. of 7 runs, 100 loops each)\n"
     ]
    }
   ],
   "source": [
    "%%timeit\n",
    "(cities.case_when(\n",
    "    caselist = [\n",
    "        (cities.isin(second_choices), 'Second Priority'),\n",
    "        (~cities.isin(first_choices), 'other'),\n",
    "    ]\n",
    ")\n",
    ")"
   ]
  },
  {
   "cell_type": "markdown",
   "id": "51c404b0-41a5-412b-8a3e-61834ad74777",
   "metadata": {},
   "source": [
    "### Missing Data"
   ]
  },
  {
   "cell_type": "code",
   "execution_count": 18,
   "id": "d67a9eda-7d82-44f8-8231-142b683fa2e8",
   "metadata": {},
   "outputs": [
    {
     "name": "stdout",
     "output_type": "stream",
     "text": [
      "             City   Country        Date   PM2.5    PM10    NO2    SO2    CO  \\\n",
      "0         Bangkok  Thailand  2023-03-19   86.57   25.19  99.88  30.63  4.46   \n",
      "1        Istanbul    Turkey  2023-02-16   50.63   97.39  48.14   8.71   3.4   \n",
      "2  Rio de Janeiro    Brazil  2023-11-13  130.21   57.22  98.51   9.92  0.12   \n",
      "3          Mumbai     India  2023-03-16   119.7  130.52  10.96  33.03  7.74   \n",
      "4           Paris    France  2023-04-04    55.2   36.62  76.85  21.85   2.0   \n",
      "\n",
      "       O3  Temperature  Humidity  Wind Speed  \n",
      "0   36.29        17.67     59.35       13.76  \n",
      "1  144.16         3.46     67.51        6.36  \n",
      "2  179.31        25.29      29.3       12.87  \n",
      "3   38.65        23.15     99.97        7.71  \n",
      "4   67.09        16.02     90.28       14.16  \n"
     ]
    }
   ],
   "source": [
    "print(global_air_quality.head())"
   ]
  },
  {
   "cell_type": "code",
   "execution_count": 19,
   "id": "14f379e6-33f2-4037-9da8-fe63a4e685ec",
   "metadata": {},
   "outputs": [],
   "source": [
    "re_global_air_quality = global_air_quality.pivot_table(index = 'Date',\n",
    "                                                       columns='City',\n",
    "                                                       values = 'NO2',\n",
    "                                                       aggfunc='mean'\n",
    "                                                      )                                                    "
   ]
  },
  {
   "cell_type": "code",
   "execution_count": 20,
   "id": "eac4fed9-3bd1-4069-bbdc-211110cdc94f",
   "metadata": {},
   "outputs": [
    {
     "data": {
      "text/html": [
       "<div>\n",
       "<style scoped>\n",
       "    .dataframe tbody tr th:only-of-type {\n",
       "        vertical-align: middle;\n",
       "    }\n",
       "\n",
       "    .dataframe tbody tr th {\n",
       "        vertical-align: top;\n",
       "    }\n",
       "\n",
       "    .dataframe thead th {\n",
       "        text-align: right;\n",
       "    }\n",
       "</style>\n",
       "<table border=\"1\" class=\"dataframe\">\n",
       "  <thead>\n",
       "    <tr style=\"text-align: right;\">\n",
       "      <th>City</th>\n",
       "      <th>Bangkok</th>\n",
       "      <th>Beijing</th>\n",
       "      <th>Berlin</th>\n",
       "      <th>Cairo</th>\n",
       "      <th>Dubai</th>\n",
       "      <th>Istanbul</th>\n",
       "      <th>Johannesburg</th>\n",
       "      <th>London</th>\n",
       "      <th>Los Angeles</th>\n",
       "      <th>Madrid</th>\n",
       "      <th>Mexico City</th>\n",
       "      <th>Moscow</th>\n",
       "      <th>Mumbai</th>\n",
       "      <th>New York</th>\n",
       "      <th>Paris</th>\n",
       "      <th>Rio de Janeiro</th>\n",
       "      <th>Seoul</th>\n",
       "      <th>Sydney</th>\n",
       "      <th>Tokyo</th>\n",
       "      <th>Toronto</th>\n",
       "    </tr>\n",
       "    <tr>\n",
       "      <th>Date</th>\n",
       "      <th></th>\n",
       "      <th></th>\n",
       "      <th></th>\n",
       "      <th></th>\n",
       "      <th></th>\n",
       "      <th></th>\n",
       "      <th></th>\n",
       "      <th></th>\n",
       "      <th></th>\n",
       "      <th></th>\n",
       "      <th></th>\n",
       "      <th></th>\n",
       "      <th></th>\n",
       "      <th></th>\n",
       "      <th></th>\n",
       "      <th></th>\n",
       "      <th></th>\n",
       "      <th></th>\n",
       "      <th></th>\n",
       "      <th></th>\n",
       "    </tr>\n",
       "  </thead>\n",
       "  <tbody>\n",
       "    <tr>\n",
       "      <th>2023-01-01</th>\n",
       "      <td>35.41</td>\n",
       "      <td>&lt;NA&gt;</td>\n",
       "      <td>&lt;NA&gt;</td>\n",
       "      <td>36.735</td>\n",
       "      <td>&lt;NA&gt;</td>\n",
       "      <td>52.105</td>\n",
       "      <td>95.24</td>\n",
       "      <td>82.56</td>\n",
       "      <td>&lt;NA&gt;</td>\n",
       "      <td>40.19</td>\n",
       "      <td>45.46</td>\n",
       "      <td>93.16</td>\n",
       "      <td>76.69</td>\n",
       "      <td>&lt;NA&gt;</td>\n",
       "      <td>55.04</td>\n",
       "      <td>49.43</td>\n",
       "      <td>&lt;NA&gt;</td>\n",
       "      <td>&lt;NA&gt;</td>\n",
       "      <td>&lt;NA&gt;</td>\n",
       "      <td>73.02</td>\n",
       "    </tr>\n",
       "    <tr>\n",
       "      <th>2023-01-02</th>\n",
       "      <td>85.305</td>\n",
       "      <td>53.39</td>\n",
       "      <td>&lt;NA&gt;</td>\n",
       "      <td>31.756667</td>\n",
       "      <td>&lt;NA&gt;</td>\n",
       "      <td>58.673333</td>\n",
       "      <td>65.895</td>\n",
       "      <td>42.7</td>\n",
       "      <td>50.013333</td>\n",
       "      <td>28.073333</td>\n",
       "      <td>38.455</td>\n",
       "      <td>20.5</td>\n",
       "      <td>68.08</td>\n",
       "      <td>27.92</td>\n",
       "      <td>&lt;NA&gt;</td>\n",
       "      <td>6.42</td>\n",
       "      <td>84.76</td>\n",
       "      <td>33.82</td>\n",
       "      <td>18.41</td>\n",
       "      <td>70.55</td>\n",
       "    </tr>\n",
       "    <tr>\n",
       "      <th>2023-01-03</th>\n",
       "      <td>47.016667</td>\n",
       "      <td>82.44</td>\n",
       "      <td>86.34</td>\n",
       "      <td>65.115</td>\n",
       "      <td>58.865</td>\n",
       "      <td>6.22</td>\n",
       "      <td>&lt;NA&gt;</td>\n",
       "      <td>29.34</td>\n",
       "      <td>36.36</td>\n",
       "      <td>63.13</td>\n",
       "      <td>&lt;NA&gt;</td>\n",
       "      <td>&lt;NA&gt;</td>\n",
       "      <td>&lt;NA&gt;</td>\n",
       "      <td>53.326667</td>\n",
       "      <td>23.85</td>\n",
       "      <td>39.066667</td>\n",
       "      <td>48.455</td>\n",
       "      <td>61.95</td>\n",
       "      <td>69.29</td>\n",
       "      <td>&lt;NA&gt;</td>\n",
       "    </tr>\n",
       "    <tr>\n",
       "      <th>2023-01-04</th>\n",
       "      <td>28.33</td>\n",
       "      <td>55.07</td>\n",
       "      <td>&lt;NA&gt;</td>\n",
       "      <td>25.7</td>\n",
       "      <td>51.49</td>\n",
       "      <td>38.51</td>\n",
       "      <td>41.676667</td>\n",
       "      <td>&lt;NA&gt;</td>\n",
       "      <td>79.35</td>\n",
       "      <td>57.083333</td>\n",
       "      <td>&lt;NA&gt;</td>\n",
       "      <td>74.326667</td>\n",
       "      <td>36.375</td>\n",
       "      <td>24.475</td>\n",
       "      <td>&lt;NA&gt;</td>\n",
       "      <td>38.485</td>\n",
       "      <td>53.74</td>\n",
       "      <td>43.475</td>\n",
       "      <td>47.09</td>\n",
       "      <td>&lt;NA&gt;</td>\n",
       "    </tr>\n",
       "    <tr>\n",
       "      <th>2023-01-05</th>\n",
       "      <td>37.28</td>\n",
       "      <td>22.1</td>\n",
       "      <td>&lt;NA&gt;</td>\n",
       "      <td>32.13</td>\n",
       "      <td>30.69</td>\n",
       "      <td>57.29</td>\n",
       "      <td>76.87</td>\n",
       "      <td>49.865</td>\n",
       "      <td>86.17</td>\n",
       "      <td>56.4325</td>\n",
       "      <td>18.005</td>\n",
       "      <td>&lt;NA&gt;</td>\n",
       "      <td>40.77</td>\n",
       "      <td>57.72</td>\n",
       "      <td>43.285</td>\n",
       "      <td>&lt;NA&gt;</td>\n",
       "      <td>39.44</td>\n",
       "      <td>67.29</td>\n",
       "      <td>&lt;NA&gt;</td>\n",
       "      <td>35.81</td>\n",
       "    </tr>\n",
       "    <tr>\n",
       "      <th>...</th>\n",
       "      <td>...</td>\n",
       "      <td>...</td>\n",
       "      <td>...</td>\n",
       "      <td>...</td>\n",
       "      <td>...</td>\n",
       "      <td>...</td>\n",
       "      <td>...</td>\n",
       "      <td>...</td>\n",
       "      <td>...</td>\n",
       "      <td>...</td>\n",
       "      <td>...</td>\n",
       "      <td>...</td>\n",
       "      <td>...</td>\n",
       "      <td>...</td>\n",
       "      <td>...</td>\n",
       "      <td>...</td>\n",
       "      <td>...</td>\n",
       "      <td>...</td>\n",
       "      <td>...</td>\n",
       "      <td>...</td>\n",
       "    </tr>\n",
       "    <tr>\n",
       "      <th>2023-12-24</th>\n",
       "      <td>52.236667</td>\n",
       "      <td>22.9075</td>\n",
       "      <td>82.18</td>\n",
       "      <td>45.645</td>\n",
       "      <td>41.145</td>\n",
       "      <td>82.04</td>\n",
       "      <td>&lt;NA&gt;</td>\n",
       "      <td>78.645</td>\n",
       "      <td>59.588</td>\n",
       "      <td>78.24</td>\n",
       "      <td>&lt;NA&gt;</td>\n",
       "      <td>10.34</td>\n",
       "      <td>&lt;NA&gt;</td>\n",
       "      <td>&lt;NA&gt;</td>\n",
       "      <td>24.62</td>\n",
       "      <td>10.53</td>\n",
       "      <td>&lt;NA&gt;</td>\n",
       "      <td>42.386667</td>\n",
       "      <td>42.945</td>\n",
       "      <td>49.086</td>\n",
       "    </tr>\n",
       "    <tr>\n",
       "      <th>2023-12-25</th>\n",
       "      <td>&lt;NA&gt;</td>\n",
       "      <td>&lt;NA&gt;</td>\n",
       "      <td>46.98</td>\n",
       "      <td>60.535</td>\n",
       "      <td>43.033333</td>\n",
       "      <td>39.365</td>\n",
       "      <td>&lt;NA&gt;</td>\n",
       "      <td>48.82</td>\n",
       "      <td>21.72</td>\n",
       "      <td>63.655</td>\n",
       "      <td>&lt;NA&gt;</td>\n",
       "      <td>36.075</td>\n",
       "      <td>89.22</td>\n",
       "      <td>70.783333</td>\n",
       "      <td>&lt;NA&gt;</td>\n",
       "      <td>39.04</td>\n",
       "      <td>49.763333</td>\n",
       "      <td>87.45</td>\n",
       "      <td>63.043333</td>\n",
       "      <td>&lt;NA&gt;</td>\n",
       "    </tr>\n",
       "    <tr>\n",
       "      <th>2023-12-26</th>\n",
       "      <td>53.6375</td>\n",
       "      <td>43.6475</td>\n",
       "      <td>36.07</td>\n",
       "      <td>24.68</td>\n",
       "      <td>84.2</td>\n",
       "      <td>&lt;NA&gt;</td>\n",
       "      <td>&lt;NA&gt;</td>\n",
       "      <td>&lt;NA&gt;</td>\n",
       "      <td>41.355</td>\n",
       "      <td>55.3</td>\n",
       "      <td>94.04</td>\n",
       "      <td>96.31</td>\n",
       "      <td>50.84</td>\n",
       "      <td>64.25</td>\n",
       "      <td>&lt;NA&gt;</td>\n",
       "      <td>81.96</td>\n",
       "      <td>43.57</td>\n",
       "      <td>46.18</td>\n",
       "      <td>68.455</td>\n",
       "      <td>&lt;NA&gt;</td>\n",
       "    </tr>\n",
       "    <tr>\n",
       "      <th>2023-12-27</th>\n",
       "      <td>76.775</td>\n",
       "      <td>&lt;NA&gt;</td>\n",
       "      <td>49.295</td>\n",
       "      <td>44.176667</td>\n",
       "      <td>50.893333</td>\n",
       "      <td>&lt;NA&gt;</td>\n",
       "      <td>57.01</td>\n",
       "      <td>&lt;NA&gt;</td>\n",
       "      <td>59.486667</td>\n",
       "      <td>21.446667</td>\n",
       "      <td>&lt;NA&gt;</td>\n",
       "      <td>68.695</td>\n",
       "      <td>83.07</td>\n",
       "      <td>57.045</td>\n",
       "      <td>72.79</td>\n",
       "      <td>&lt;NA&gt;</td>\n",
       "      <td>48.365</td>\n",
       "      <td>38.67</td>\n",
       "      <td>&lt;NA&gt;</td>\n",
       "      <td>70.32</td>\n",
       "    </tr>\n",
       "    <tr>\n",
       "      <th>2023-12-28</th>\n",
       "      <td>&lt;NA&gt;</td>\n",
       "      <td>44.393333</td>\n",
       "      <td>74.156667</td>\n",
       "      <td>83.82</td>\n",
       "      <td>67.39</td>\n",
       "      <td>30.21</td>\n",
       "      <td>&lt;NA&gt;</td>\n",
       "      <td>&lt;NA&gt;</td>\n",
       "      <td>31.67</td>\n",
       "      <td>64.25</td>\n",
       "      <td>53.185</td>\n",
       "      <td>&lt;NA&gt;</td>\n",
       "      <td>38.2775</td>\n",
       "      <td>9.85</td>\n",
       "      <td>39.49</td>\n",
       "      <td>&lt;NA&gt;</td>\n",
       "      <td>48.29</td>\n",
       "      <td>17.03</td>\n",
       "      <td>45.8</td>\n",
       "      <td>&lt;NA&gt;</td>\n",
       "    </tr>\n",
       "  </tbody>\n",
       "</table>\n",
       "<p>336 rows × 20 columns</p>\n",
       "</div>"
      ],
      "text/plain": [
       "City          Bangkok    Beijing     Berlin      Cairo      Dubai   Istanbul  \\\n",
       "Date                                                                           \n",
       "2023-01-01      35.41       <NA>       <NA>     36.735       <NA>     52.105   \n",
       "2023-01-02     85.305      53.39       <NA>  31.756667       <NA>  58.673333   \n",
       "2023-01-03  47.016667      82.44      86.34     65.115     58.865       6.22   \n",
       "2023-01-04      28.33      55.07       <NA>       25.7      51.49      38.51   \n",
       "2023-01-05      37.28       22.1       <NA>      32.13      30.69      57.29   \n",
       "...               ...        ...        ...        ...        ...        ...   \n",
       "2023-12-24  52.236667    22.9075      82.18     45.645     41.145      82.04   \n",
       "2023-12-25       <NA>       <NA>      46.98     60.535  43.033333     39.365   \n",
       "2023-12-26    53.6375    43.6475      36.07      24.68       84.2       <NA>   \n",
       "2023-12-27     76.775       <NA>     49.295  44.176667  50.893333       <NA>   \n",
       "2023-12-28       <NA>  44.393333  74.156667      83.82      67.39      30.21   \n",
       "\n",
       "City        Johannesburg  London  Los Angeles     Madrid  Mexico City  \\\n",
       "Date                                                                    \n",
       "2023-01-01         95.24   82.56         <NA>      40.19        45.46   \n",
       "2023-01-02        65.895    42.7    50.013333  28.073333       38.455   \n",
       "2023-01-03          <NA>   29.34        36.36      63.13         <NA>   \n",
       "2023-01-04     41.676667    <NA>        79.35  57.083333         <NA>   \n",
       "2023-01-05         76.87  49.865        86.17    56.4325       18.005   \n",
       "...                  ...     ...          ...        ...          ...   \n",
       "2023-12-24          <NA>  78.645       59.588      78.24         <NA>   \n",
       "2023-12-25          <NA>   48.82        21.72     63.655         <NA>   \n",
       "2023-12-26          <NA>    <NA>       41.355       55.3        94.04   \n",
       "2023-12-27         57.01    <NA>    59.486667  21.446667         <NA>   \n",
       "2023-12-28          <NA>    <NA>        31.67      64.25       53.185   \n",
       "\n",
       "City           Moscow   Mumbai   New York   Paris  Rio de Janeiro      Seoul  \\\n",
       "Date                                                                           \n",
       "2023-01-01      93.16    76.69       <NA>   55.04           49.43       <NA>   \n",
       "2023-01-02       20.5    68.08      27.92    <NA>            6.42      84.76   \n",
       "2023-01-03       <NA>     <NA>  53.326667   23.85       39.066667     48.455   \n",
       "2023-01-04  74.326667   36.375     24.475    <NA>          38.485      53.74   \n",
       "2023-01-05       <NA>    40.77      57.72  43.285            <NA>      39.44   \n",
       "...               ...      ...        ...     ...             ...        ...   \n",
       "2023-12-24      10.34     <NA>       <NA>   24.62           10.53       <NA>   \n",
       "2023-12-25     36.075    89.22  70.783333    <NA>           39.04  49.763333   \n",
       "2023-12-26      96.31    50.84      64.25    <NA>           81.96      43.57   \n",
       "2023-12-27     68.695    83.07     57.045   72.79            <NA>     48.365   \n",
       "2023-12-28       <NA>  38.2775       9.85   39.49            <NA>      48.29   \n",
       "\n",
       "City           Sydney      Tokyo  Toronto  \n",
       "Date                                       \n",
       "2023-01-01       <NA>       <NA>    73.02  \n",
       "2023-01-02      33.82      18.41    70.55  \n",
       "2023-01-03      61.95      69.29     <NA>  \n",
       "2023-01-04     43.475      47.09     <NA>  \n",
       "2023-01-05      67.29       <NA>    35.81  \n",
       "...               ...        ...      ...  \n",
       "2023-12-24  42.386667     42.945   49.086  \n",
       "2023-12-25      87.45  63.043333     <NA>  \n",
       "2023-12-26      46.18     68.455     <NA>  \n",
       "2023-12-27      38.67       <NA>    70.32  \n",
       "2023-12-28      17.03       45.8     <NA>  \n",
       "\n",
       "[336 rows x 20 columns]"
      ]
     },
     "execution_count": 20,
     "metadata": {},
     "output_type": "execute_result"
    }
   ],
   "source": [
    "re_global_air_quality"
   ]
  },
  {
   "cell_type": "code",
   "execution_count": 21,
   "id": "ae927a5d-7df5-419e-81ae-81a429d70cd2",
   "metadata": {},
   "outputs": [
    {
     "data": {
      "text/plain": [
       "85"
      ]
     },
     "execution_count": 21,
     "metadata": {},
     "output_type": "execute_result"
    }
   ],
   "source": [
    "re_global_air_quality['New York'].isna().sum()"
   ]
  },
  {
   "cell_type": "code",
   "execution_count": 22,
   "id": "68dfec85-5a67-4b5f-b088-69a68a93e0c4",
   "metadata": {},
   "outputs": [],
   "source": [
    "testData1 = re_global_air_quality['New York'].fillna(1)"
   ]
  },
  {
   "cell_type": "code",
   "execution_count": 23,
   "id": "d5f08836-1733-40ba-a13d-95021251f646",
   "metadata": {},
   "outputs": [
    {
     "data": {
      "text/plain": [
       "0"
      ]
     },
     "execution_count": 23,
     "metadata": {},
     "output_type": "execute_result"
    }
   ],
   "source": [
    "testData1.isna().sum()"
   ]
  },
  {
   "cell_type": "code",
   "execution_count": 24,
   "id": "7883513b-cbc5-4aef-9fd9-b4991e9ec4a4",
   "metadata": {},
   "outputs": [],
   "source": [
    "testData2 =re_global_air_quality['New York'].dropna()"
   ]
  },
  {
   "cell_type": "code",
   "execution_count": 25,
   "id": "dd02ec55-c065-4e5d-887d-ce8cf1ee2332",
   "metadata": {},
   "outputs": [
    {
     "data": {
      "text/plain": [
       "251"
      ]
     },
     "execution_count": 25,
     "metadata": {},
     "output_type": "execute_result"
    }
   ],
   "source": [
    "testData2.size"
   ]
  },
  {
   "cell_type": "code",
   "execution_count": 26,
   "id": "bd9cda05-fd77-4204-b78b-d19c4a640cb4",
   "metadata": {},
   "outputs": [
    {
     "data": {
      "text/plain": [
       "336"
      ]
     },
     "execution_count": 26,
     "metadata": {},
     "output_type": "execute_result"
    }
   ],
   "source": [
    "re_global_air_quality['New York'].size"
   ]
  },
  {
   "cell_type": "code",
   "execution_count": 27,
   "id": "744dc2d8-2ef0-4208-b58f-47c7d5adab32",
   "metadata": {},
   "outputs": [],
   "source": [
    "testData4 = pd.Series([23,21,19,None,None, 27, 29])"
   ]
  },
  {
   "cell_type": "code",
   "execution_count": 28,
   "id": "a3f520f2-e20e-4e24-a37b-18ffafdcc947",
   "metadata": {},
   "outputs": [
    {
     "data": {
      "text/plain": [
       "0    23.0\n",
       "1    21.0\n",
       "2    19.0\n",
       "3    19.0\n",
       "4    19.0\n",
       "5    27.0\n",
       "6    29.0\n",
       "dtype: float64"
      ]
     },
     "execution_count": 28,
     "metadata": {},
     "output_type": "execute_result"
    }
   ],
   "source": [
    "testData4.ffill()"
   ]
  },
  {
   "cell_type": "code",
   "execution_count": 29,
   "id": "4d2bbea4-783b-4d8c-85fb-4ec2916bd813",
   "metadata": {},
   "outputs": [
    {
     "data": {
      "text/plain": [
       "1"
      ]
     },
     "execution_count": 29,
     "metadata": {},
     "output_type": "execute_result"
    }
   ],
   "source": [
    "re_global_air_quality['New York'].ffill().isna().sum()"
   ]
  },
  {
   "cell_type": "code",
   "execution_count": 30,
   "id": "dc5c8358-5d1d-4c4f-b2b3-7fb7b7f09f31",
   "metadata": {},
   "outputs": [
    {
     "data": {
      "text/plain": [
       "Date\n",
       "2023-01-01         <NA>\n",
       "2023-01-02        27.92\n",
       "2023-01-03    53.326667\n",
       "2023-01-04       24.475\n",
       "2023-01-05        57.72\n",
       "                ...    \n",
       "2023-12-24    70.366667\n",
       "2023-12-25    70.783333\n",
       "2023-12-26        64.25\n",
       "2023-12-27       57.045\n",
       "2023-12-28         9.85\n",
       "Name: New York, Length: 336, dtype: double[pyarrow]"
      ]
     },
     "execution_count": 30,
     "metadata": {},
     "output_type": "execute_result"
    }
   ],
   "source": [
    "re_global_air_quality['New York'].interpolate()"
   ]
  },
  {
   "cell_type": "markdown",
   "id": "2af0d37c-2b0b-4d79-a231-851248e16fb6",
   "metadata": {},
   "source": [
    ".clip()"
   ]
  },
  {
   "cell_type": "markdown",
   "id": "b3b259c5-2f17-4ba1-870f-79ea24debe66",
   "metadata": {},
   "source": [
    "Part 1 Ends here:\n",
    "In this session, we explored several key functions that help with data manipulation and analysis in Series. So far, we have covered the following:\n",
    "\n",
    "- The .apply() function\n",
    "- The .where() function\n",
    "- The .mask() function\n",
    "- The .case_when() function\n",
    "- Additionally, we looked at handling missing data using these methods:\n",
    "- Getting an overview of missing data with .isna().sum()\n",
    "- Filling missing values with .fillna(value)\n",
    "- Dropping missing data with .dropna()\n",
    "- Interpolating missing data with .interpolate()"
   ]
  },
  {
   "cell_type": "code",
   "execution_count": 31,
   "id": "ca26e828-1292-4039-9b1e-be981cdcdfd0",
   "metadata": {},
   "outputs": [
    {
     "name": "stdout",
     "output_type": "stream",
     "text": [
      "0.00831354143221299 Bangkok\n",
      "-0.08211921869981859 Beijing\n",
      "-0.12295851460663304 Berlin\n",
      "0.147858346080804 Cairo\n",
      "-0.09448538998564548 Dubai\n",
      "-0.032948767068706336 Istanbul\n",
      "-0.07225449602636173 Johannesburg\n",
      "-0.08122096070092279 London\n",
      "0.01626645689499212 Los Angeles\n",
      "-0.02092443756366995 Madrid\n",
      "0.026465640560031183 Mexico City\n",
      "-0.14043860055505872 Moscow\n",
      "-0.16051918416550864 Mumbai\n",
      "0.0821144044267552 New York\n",
      "-0.15217247097070696 Paris\n",
      "-0.0534886575538337 Rio de Janeiro\n",
      "-0.026504120162772676 Seoul\n",
      "-0.08672788756287182 Sydney\n",
      "-0.08671630473000638 Tokyo\n",
      "0.041684204784119765 Toronto\n"
     ]
    }
   ],
   "source": [
    "for col in re_global_air_quality.columns:\n",
    "    print(re_global_air_quality[col].astype('float').skew(), col)\n",
    "    "
   ]
  },
  {
   "cell_type": "code",
   "execution_count": 32,
   "id": "7750b483-d826-40f2-ac60-68dd2077ca9c",
   "metadata": {},
   "outputs": [],
   "source": [
    "testData5 = pd.Series([23, 31, 19, 24, 18, 32,27, 76, 19,21, 15])"
   ]
  },
  {
   "cell_type": "code",
   "execution_count": 33,
   "id": "8ca46734-90c2-4d9a-bc6a-0dcba2a9ce9a",
   "metadata": {},
   "outputs": [
    {
     "data": {
      "text/plain": [
       "2.7388586269355315"
      ]
     },
     "execution_count": 33,
     "metadata": {},
     "output_type": "execute_result"
    }
   ],
   "source": [
    "testData5.skew()"
   ]
  },
  {
   "cell_type": "code",
   "execution_count": 34,
   "id": "8c1f5626-ae66-4953-b368-88929f636069",
   "metadata": {},
   "outputs": [],
   "source": [
    "lower = testData5.quantile(0.05)\n",
    "upper = testData5.quantile(0.95)"
   ]
  },
  {
   "cell_type": "code",
   "execution_count": 35,
   "id": "45352123-019c-41c3-88d3-acb90f6ee452",
   "metadata": {},
   "outputs": [
    {
     "data": {
      "text/plain": [
       "0     23.0\n",
       "1     31.0\n",
       "2     19.0\n",
       "3     24.0\n",
       "4     18.0\n",
       "5     32.0\n",
       "6     27.0\n",
       "7     54.0\n",
       "8     19.0\n",
       "9     21.0\n",
       "10    16.5\n",
       "dtype: float64"
      ]
     },
     "execution_count": 35,
     "metadata": {},
     "output_type": "execute_result"
    }
   ],
   "source": [
    "testData5.clip(lower=lower,\n",
    "               upper=upper\n",
    "              )"
   ]
  },
  {
   "cell_type": "markdown",
   "id": "7894206f-aa3d-4d90-9853-6e524c62a91c",
   "metadata": {},
   "source": [
    ".sort_values() and .sort_index()"
   ]
  },
  {
   "cell_type": "code",
   "execution_count": 36,
   "id": "dce1e665-05ed-44a1-9e28-23be0c6635af",
   "metadata": {},
   "outputs": [
    {
     "data": {
      "text/plain": [
       "0     23\n",
       "1     31\n",
       "2     19\n",
       "3     24\n",
       "4     18\n",
       "5     32\n",
       "6     27\n",
       "7     76\n",
       "8     19\n",
       "9     21\n",
       "10    15\n",
       "dtype: int64"
      ]
     },
     "execution_count": 36,
     "metadata": {},
     "output_type": "execute_result"
    }
   ],
   "source": [
    "testData5.sort_values().sort_index()"
   ]
  },
  {
   "cell_type": "markdown",
   "id": "545d018f-8986-4baa-872f-d55c73aae4c9",
   "metadata": {},
   "source": [
    ".drop_duplicates()"
   ]
  },
  {
   "cell_type": "code",
   "execution_count": 37,
   "id": "baa275e3-6902-478a-9722-f71a3d7691e1",
   "metadata": {},
   "outputs": [],
   "source": [
    "testData6 = pd.Series([23, 15, 31, 19, 24, 18,23, 32,27, 76, 19,21, 15])"
   ]
  },
  {
   "cell_type": "code",
   "execution_count": 38,
   "id": "4c900cc6-0f65-41a0-b062-9a8360d56991",
   "metadata": {},
   "outputs": [
    {
     "data": {
      "text/plain": [
       "2     31\n",
       "4     24\n",
       "5     18\n",
       "7     32\n",
       "8     27\n",
       "9     76\n",
       "11    21\n",
       "dtype: int64"
      ]
     },
     "execution_count": 38,
     "metadata": {},
     "output_type": "execute_result"
    }
   ],
   "source": [
    "testData6.drop_duplicates(keep=False)"
   ]
  },
  {
   "cell_type": "markdown",
   "id": "2a53f617-5045-42ca-87bb-15a16ab48487",
   "metadata": {},
   "source": [
    ".rank() "
   ]
  },
  {
   "cell_type": "code",
   "execution_count": 39,
   "id": "1c3704e0-50c4-42d6-b3c2-651c2d6037a0",
   "metadata": {},
   "outputs": [],
   "source": [
    " testData7 = pd.Series([40, 20,20,10,20, 30, 10])"
   ]
  },
  {
   "cell_type": "code",
   "execution_count": 40,
   "id": "cc1162dd-b475-4aa1-abb8-a74a5ab3d622",
   "metadata": {},
   "outputs": [
    {
     "data": {
      "text/plain": [
       "0    40\n",
       "1    20\n",
       "2    20\n",
       "3    10\n",
       "4    20\n",
       "5    30\n",
       "6    10\n",
       "dtype: int64"
      ]
     },
     "execution_count": 40,
     "metadata": {},
     "output_type": "execute_result"
    }
   ],
   "source": [
    " testData7"
   ]
  },
  {
   "cell_type": "code",
   "execution_count": 41,
   "id": "53c3cd9b-b342-4271-b7b2-53f23a0adced",
   "metadata": {},
   "outputs": [
    {
     "data": {
      "text/plain": [
       "0    7.0\n",
       "1    4.0\n",
       "2    4.0\n",
       "3    1.5\n",
       "4    4.0\n",
       "5    6.0\n",
       "6    1.5\n",
       "dtype: float64"
      ]
     },
     "execution_count": 41,
     "metadata": {},
     "output_type": "execute_result"
    }
   ],
   "source": [
    " testData7.rank()"
   ]
  },
  {
   "cell_type": "markdown",
   "id": "702803d4-23d9-4108-b288-26b6da8e33b2",
   "metadata": {},
   "source": [
    "How it works:\n",
    "- The method compares the values in each column (or row, if specified) and assigns a rank to each value.\n",
    "- By default, ranks are assigned in ascending order (smallest value gets rank 1).\n",
    "- Ties (i.e., if two or more values are the same) are assigned the average rank by default."
   ]
  },
  {
   "cell_type": "code",
   "execution_count": 42,
   "id": "c9914c62-c66a-47d3-b2b9-6cb10ff35290",
   "metadata": {},
   "outputs": [
    {
     "data": {
      "text/plain": [
       "0    7.0\n",
       "1    3.0\n",
       "2    3.0\n",
       "3    1.0\n",
       "4    3.0\n",
       "5    6.0\n",
       "6    1.0\n",
       "dtype: float64"
      ]
     },
     "execution_count": 42,
     "metadata": {},
     "output_type": "execute_result"
    }
   ],
   "source": [
    " testData7.rank(method='min')"
   ]
  },
  {
   "cell_type": "code",
   "execution_count": 43,
   "id": "a89b3c40-557b-4c69-8596-77d872939553",
   "metadata": {},
   "outputs": [
    {
     "data": {
      "text/plain": [
       "0    1.0\n",
       "1    4.0\n",
       "2    4.0\n",
       "3    6.5\n",
       "4    4.0\n",
       "5    2.0\n",
       "6    6.5\n",
       "dtype: float64"
      ]
     },
     "execution_count": 43,
     "metadata": {},
     "output_type": "execute_result"
    }
   ],
   "source": [
    " testData7.rank(ascending=False)"
   ]
  },
  {
   "cell_type": "markdown",
   "id": "47da2497-3c08-4bfb-a310-32943707104c",
   "metadata": {},
   "source": [
    ".replace()"
   ]
  },
  {
   "cell_type": "code",
   "execution_count": 44,
   "id": "f0d28c3a-5e0a-4ad2-878f-f59a661f9ff2",
   "metadata": {},
   "outputs": [],
   "source": [
    "testData10 = pd.Series([20,10,20,30,10,15,10,40,50])"
   ]
  },
  {
   "cell_type": "code",
   "execution_count": 45,
   "id": "6beaff34-b117-48bf-9486-44813844f9b2",
   "metadata": {},
   "outputs": [
    {
     "data": {
      "text/plain": [
       "0    20\n",
       "1    10\n",
       "2    20\n",
       "3    30\n",
       "4    10\n",
       "5    15\n",
       "6    10\n",
       "7    40\n",
       "8    50\n",
       "dtype: int64"
      ]
     },
     "execution_count": 45,
     "metadata": {},
     "output_type": "execute_result"
    }
   ],
   "source": [
    "testData10"
   ]
  },
  {
   "cell_type": "code",
   "execution_count": 46,
   "id": "139c6f86-6fe8-4bdc-900a-9706df5ff802",
   "metadata": {},
   "outputs": [
    {
     "data": {
      "text/plain": [
       "0    20\n",
       "1    15\n",
       "2    20\n",
       "3    30\n",
       "4    15\n",
       "5    15\n",
       "6    15\n",
       "7    40\n",
       "8    50\n",
       "dtype: int64"
      ]
     },
     "execution_count": 46,
     "metadata": {},
     "output_type": "execute_result"
    }
   ],
   "source": [
    "testData10.replace(10,15)"
   ]
  },
  {
   "cell_type": "code",
   "execution_count": 47,
   "id": "0922b5c6-d83e-44a5-a953-c6e9827da77b",
   "metadata": {},
   "outputs": [],
   "source": [
    "replacement = {10:15, 40:45}"
   ]
  },
  {
   "cell_type": "code",
   "execution_count": 48,
   "id": "b93114d9-b17a-4539-8b1b-10947b0f2d3f",
   "metadata": {},
   "outputs": [
    {
     "data": {
      "text/plain": [
       "0    20\n",
       "1    15\n",
       "2    20\n",
       "3    30\n",
       "4    15\n",
       "5    15\n",
       "6    15\n",
       "7    45\n",
       "8    50\n",
       "dtype: int64"
      ]
     },
     "execution_count": 48,
     "metadata": {},
     "output_type": "execute_result"
    }
   ],
   "source": [
    "testData10.replace(replacement)"
   ]
  },
  {
   "cell_type": "code",
   "execution_count": 49,
   "id": "a8abce05-9aa7-4d5f-8460-cbb7bf424fc0",
   "metadata": {},
   "outputs": [
    {
     "data": {
      "text/plain": [
       "0    20\n",
       "1    15\n",
       "2    20\n",
       "3    30\n",
       "4    15\n",
       "5    15\n",
       "6    15\n",
       "7    45\n",
       "8    50\n",
       "dtype: int64"
      ]
     },
     "execution_count": 49,
     "metadata": {},
     "output_type": "execute_result"
    }
   ],
   "source": [
    "testData10.replace(\n",
    "    to_replace=[10,40],\n",
    "    value=[15, 45]\n",
    ")"
   ]
  },
  {
   "cell_type": "code",
   "execution_count": 50,
   "id": "d05349c3-aa02-4695-936e-c4d8239f7383",
   "metadata": {},
   "outputs": [],
   "source": [
    "phone_numbers = pd.Series(['123-456-7890', \n",
    "                           '123 564 7890', \n",
    "                           '(123)654-7890', \n",
    "                           '123.546.7890'])"
   ]
  },
  {
   "cell_type": "code",
   "execution_count": 51,
   "id": "3ca048c1-0799-4f76-8588-3513566d67b2",
   "metadata": {},
   "outputs": [
    {
     "data": {
      "text/plain": [
       "0     123-456-7890\n",
       "1     123 564 7890\n",
       "2    (123)654-7890\n",
       "3     123.546.7890\n",
       "dtype: object"
      ]
     },
     "execution_count": 51,
     "metadata": {},
     "output_type": "execute_result"
    }
   ],
   "source": [
    "phone_numbers"
   ]
  },
  {
   "cell_type": "code",
   "execution_count": 52,
   "id": "91238b54-e227-410d-9669-1f4d167ad4ba",
   "metadata": {},
   "outputs": [
    {
     "data": {
      "text/plain": [
       "0    (123) 456-7890\n",
       "1    (123) 564-7890\n",
       "2    (123) 654-7890\n",
       "3    (123) 546-7890\n",
       "dtype: object"
      ]
     },
     "execution_count": 52,
     "metadata": {},
     "output_type": "execute_result"
    }
   ],
   "source": [
    "phone_numbers.replace(\n",
    "    r'\\(?(\\d{3})[\\s\\.\\-\\)]*(\\d{3})[\\s\\.\\-]*(\\d{4})',\n",
    "    r'(\\1) \\2-\\3', \n",
    "    #(xxx) xxx-xxxx\n",
    "    regex=True\n",
    ")"
   ]
  },
  {
   "cell_type": "markdown",
   "id": "0291a09f-e9e0-432d-9d9a-5fb49504682d",
   "metadata": {},
   "source": [
    ".cut()"
   ]
  },
  {
   "cell_type": "code",
   "execution_count": 53,
   "id": "59a0b8ee-cbbc-4088-849a-6891440f5fdf",
   "metadata": {},
   "outputs": [
    {
     "data": {
      "text/plain": [
       "Johannesburg\n",
       "(39.992, 59.988]    96\n",
       "(-0.1, 19.996]      89\n",
       "(59.988, 79.984]    65\n",
       "(19.996, 39.992]    52\n",
       "(79.984, 99.98]     34\n",
       "Name: count, dtype: int64"
      ]
     },
     "execution_count": 53,
     "metadata": {},
     "output_type": "execute_result"
    }
   ],
   "source": [
    "pd.cut(re_global_air_quality.Johannesburg.fillna(0), 5).value_counts()"
   ]
  },
  {
   "cell_type": "code",
   "execution_count": 54,
   "id": "615bab0c-4788-4688-a11d-ce529c5d65d9",
   "metadata": {},
   "outputs": [],
   "source": [
    "bins = list(range(0,101, 10))"
   ]
  },
  {
   "cell_type": "code",
   "execution_count": 55,
   "id": "215f3a15-9b8e-46b2-8c3b-b20b51b7acd9",
   "metadata": {},
   "outputs": [
    {
     "data": {
      "text/plain": [
       "[0, 10, 20, 30, 40, 50, 60, 70, 80, 90, 100]"
      ]
     },
     "execution_count": 55,
     "metadata": {},
     "output_type": "execute_result"
    }
   ],
   "source": [
    "bins\n",
    "#0-10, 10-20, 20-30, ....90-100"
   ]
  },
  {
   "cell_type": "code",
   "execution_count": 56,
   "id": "5cbe1e46-4f26-418e-86c9-a35e79d3447f",
   "metadata": {},
   "outputs": [
    {
     "data": {
      "text/plain": [
       "Date\n",
       "2023-01-01     (90.0, 100.0]\n",
       "2023-01-02      (60.0, 70.0]\n",
       "2023-01-03    (-0.001, 10.0]\n",
       "2023-01-04      (40.0, 50.0]\n",
       "2023-01-05      (70.0, 80.0]\n",
       "                   ...      \n",
       "2023-12-24    (-0.001, 10.0]\n",
       "2023-12-25    (-0.001, 10.0]\n",
       "2023-12-26    (-0.001, 10.0]\n",
       "2023-12-27      (50.0, 60.0]\n",
       "2023-12-28    (-0.001, 10.0]\n",
       "Name: Johannesburg, Length: 336, dtype: category\n",
       "Categories (10, interval[float64, right]): [(-0.001, 10.0] < (10.0, 20.0] < (20.0, 30.0] < (30.0, 40.0] ... (60.0, 70.0] < (70.0, 80.0] < (80.0, 90.0] < (90.0, 100.0]]"
      ]
     },
     "execution_count": 56,
     "metadata": {},
     "output_type": "execute_result"
    }
   ],
   "source": [
    "pd.cut(re_global_air_quality.Johannesburg.fillna(0), \n",
    "       bins,\n",
    "       include_lowest=True)"
   ]
  },
  {
   "cell_type": "code",
   "execution_count": 57,
   "id": "91ddbe82-d082-4099-ae39-a4b1d7d36fe8",
   "metadata": {},
   "outputs": [],
   "source": [
    "labels = ['0-10', '10-20', '20-30', \n",
    "          '30-40', '40-50','50-60',\n",
    "          '60-70','70-80', '80-90',\n",
    "          '90-100'\n",
    "         ]"
   ]
  },
  {
   "cell_type": "code",
   "execution_count": 58,
   "id": "ab9516eb-bd29-438a-bf88-fe368815c4b7",
   "metadata": {},
   "outputs": [
    {
     "data": {
      "text/plain": [
       "Johannesburg\n",
       "0-10      71\n",
       "50-60     57\n",
       "40-50     39\n",
       "70-80     33\n",
       "60-70     32\n",
       "30-40     31\n",
       "20-30     21\n",
       "80-90     20\n",
       "10-20     18\n",
       "90-100    14\n",
       "Name: count, dtype: int64"
      ]
     },
     "execution_count": 58,
     "metadata": {},
     "output_type": "execute_result"
    }
   ],
   "source": [
    "pd.cut(re_global_air_quality.Johannesburg.fillna(0), \n",
    "       bins,\n",
    "       labels = labels,\n",
    "       include_lowest=True).value_counts()"
   ]
  },
  {
   "cell_type": "markdown",
   "id": "9a542672-be55-4d20-87fd-a14133b6768b",
   "metadata": {},
   "source": [
    "In this session, we covered several key functions for manipulating Series data, \n",
    "including:\n",
    "- .clip(),\n",
    "- .sort_values(),\n",
    "- .drop_duplicates(),\n",
    "- .rank()\n",
    "- .replace() and\n",
    "- .cut(). "
   ]
  },
  {
   "cell_type": "markdown",
   "id": "231c0ae2-58b7-4fcd-8eca-68ec85353359",
   "metadata": {},
   "source": []
  },
  {
   "cell_type": "code",
   "execution_count": null,
   "id": "f424d873-cbad-45e5-aa90-3a21bd32e02b",
   "metadata": {},
   "outputs": [],
   "source": []
  }
 ],
 "metadata": {
  "kernelspec": {
   "display_name": "Python 3 (ipykernel)",
   "language": "python",
   "name": "python3"
  },
  "language_info": {
   "codemirror_mode": {
    "name": "ipython",
    "version": 3
   },
   "file_extension": ".py",
   "mimetype": "text/x-python",
   "name": "python",
   "nbconvert_exporter": "python",
   "pygments_lexer": "ipython3",
   "version": "3.12.3"
  }
 },
 "nbformat": 4,
 "nbformat_minor": 5
}
