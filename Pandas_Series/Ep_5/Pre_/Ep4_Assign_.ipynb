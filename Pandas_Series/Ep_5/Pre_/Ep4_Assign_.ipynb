{
 "cells": [
  {
   "cell_type": "code",
   "execution_count": 56,
   "id": "158d1f21-8016-4fdd-a5d4-a52366179816",
   "metadata": {},
   "outputs": [],
   "source": [
    "# Import necessary libraries\n",
    "import pandas as pd\n",
    "from scipy import stats"
   ]
  },
  {
   "cell_type": "code",
   "execution_count": 57,
   "id": "470454bd-4704-4735-bd73-78e8cb0b02d3",
   "metadata": {},
   "outputs": [],
   "source": [
    "# Assign GitHub link to data source variable\n",
    "# Ensure to change 'blob' in the link to 'raw'\n",
    "gitRepo = 'https://github.com/colabLearn/PandasDFrameVideoScripts/raw/main/testData/Student_performance_data.csv'"
   ]
  },
  {
   "cell_type": "code",
   "execution_count": 58,
   "id": "0df407be-2610-4987-8d97-f40088f60342",
   "metadata": {},
   "outputs": [],
   "source": [
    "# Extract student data from the CSV file using the PyArrow engine for efficient datatype handling\n",
    "studentData = pd.read_csv(gitRepo, dtype_backend=\"pyarrow\", engine=\"pyarrow\")"
   ]
  },
  {
   "cell_type": "code",
   "execution_count": 59,
   "id": "87a3c990-4391-4336-8a45-35cd2e23604a",
   "metadata": {},
   "outputs": [
    {
     "name": "stdout",
     "output_type": "stream",
     "text": [
      "   StudentID  Age  Gender  Ethnicity  ParentalEducation  StudyTimeWeekly  \\\n",
      "0       1001   17       1          0                  2        19.833723   \n",
      "1       1002   18       0          0                  1        15.408756   \n",
      "2       1003   15       0          2                  3          4.21057   \n",
      "3       1004   17       1          0                  3        10.028829   \n",
      "4       1005   17       1          0                  2         4.672495   \n",
      "\n",
      "   Absences  Tutoring  ParentalSupport  Extracurricular  Sports  Music  \\\n",
      "0         7         1                2                0       0      1   \n",
      "1         0         0                1                0       0      0   \n",
      "2        26         0                2                0       0      0   \n",
      "3        14         0                3                1       0      0   \n",
      "4        17         1                3                0       0      0   \n",
      "\n",
      "   Volunteering       GPA  GradeClass  \n",
      "0             0  2.929196         2.0  \n",
      "1             0  3.042915         1.0  \n",
      "2             0  0.112602         4.0  \n",
      "3             0  2.054218         3.0  \n",
      "4             0  1.288061         4.0  \n"
     ]
    }
   ],
   "source": [
    "# View the first few rows of student data to understand its structure\n",
    "print(studentData.head())"
   ]
  },
  {
   "cell_type": "code",
   "execution_count": 60,
   "id": "0039109d-0719-4995-a73d-dea7252a0992",
   "metadata": {},
   "outputs": [],
   "source": [
    "# Extract the 'GPA' column into a Pandas Series\n",
    "studentGPA = studentData['GPA']"
   ]
  },
  {
   "cell_type": "code",
   "execution_count": 61,
   "id": "68ad02ff-4520-4545-85a4-e5e14c8dc0f1",
   "metadata": {},
   "outputs": [
    {
     "name": "stdout",
     "output_type": "stream",
     "text": [
      "0    2.929196\n",
      "1    3.042915\n",
      "2    0.112602\n",
      "3    2.054218\n",
      "4    1.288061\n",
      "Name: GPA, dtype: double[pyarrow]\n"
     ]
    }
   ],
   "source": [
    "# View the GPA Series to check its contents\n",
    "print(studentGPA.head())"
   ]
  },
  {
   "cell_type": "code",
   "execution_count": 62,
   "id": "79d8668a-405a-488e-a010-f7802bf02f34",
   "metadata": {},
   "outputs": [],
   "source": [
    "# Calculate the 25th and 75th percentiles of the GPA data\n",
    "gpa_25 = studentGPA.quantile(0.25)  # 25th percentile (lower quartile)\n",
    "gpa_75 = studentGPA.quantile(0.75)  # 75th percentile (upper quartile)"
   ]
  },
  {
   "cell_type": "code",
   "execution_count": 63,
   "id": "64075536-6fdc-4e98-b904-78cf99e62157",
   "metadata": {},
   "outputs": [],
   "source": [
    "# Create a mask for students whose GPA is below the 25th percentile\n",
    "mask_gpa_below_25 = studentGPA.lt(gpa_25)"
   ]
  },
  {
   "cell_type": "code",
   "execution_count": 64,
   "id": "62753768-4fa7-4ab6-9123-2a6ec41637c2",
   "metadata": {},
   "outputs": [
    {
     "name": "stdout",
     "output_type": "stream",
     "text": [
      "0    False\n",
      "1    False\n",
      "2     True\n",
      "3    False\n",
      "4    False\n",
      "Name: GPA, dtype: bool[pyarrow]\n"
     ]
    }
   ],
   "source": [
    "# View the mask to see which students fall below the 25th percentile\n",
    "print(mask_gpa_below_25.head())"
   ]
  },
  {
   "cell_type": "code",
   "execution_count": 65,
   "id": "dad1a4ba-a31b-40e9-8b54-99f8ce49b84f",
   "metadata": {},
   "outputs": [],
   "source": [
    "# Create a mask for students whose GPA is above the 75th percentile\n",
    "mask_gpa_above_75 = studentGPA.gt(gpa_75)"
   ]
  },
  {
   "cell_type": "code",
   "execution_count": 66,
   "id": "3081b81b-b0de-487a-8890-8d9649146af5",
   "metadata": {},
   "outputs": [
    {
     "name": "stdout",
     "output_type": "stream",
     "text": [
      "0     True\n",
      "1     True\n",
      "2    False\n",
      "3    False\n",
      "4    False\n",
      "Name: GPA, dtype: bool[pyarrow]\n"
     ]
    }
   ],
   "source": [
    "# View the mask to see which students score above the 75th percentile\n",
    "print(mask_gpa_above_75.head())"
   ]
  },
  {
   "cell_type": "code",
   "execution_count": 67,
   "id": "a3b546db-fb29-4e52-bdf4-0b681adf93a0",
   "metadata": {},
   "outputs": [],
   "source": [
    "# Function to evaluate if there is a significant difference between two related datasets\n",
    "def significant_diff(series1, series2):\n",
    "    t_stat, p_value = stats.ttest_rel(series1, series2)\n",
    "    result = {\"T-Statistic\": t_stat, \"P-Value\": p_value}\n",
    "    \n",
    "    # Interpret the result based on the significance level (alpha)\n",
    "    alpha = 0.05\n",
    "    if p_value < alpha:\n",
    "        result['interpret'] = \"The difference is statistically significant.\"\n",
    "    else:\n",
    "        result['interpret'] = \"The difference is not statistically significant.\"\n",
    "    \n",
    "    return pd.Series(result)"
   ]
  },
  {
   "cell_type": "code",
   "execution_count": 68,
   "id": "06046d17-1106-4f79-86bc-4f62c5da2a1a",
   "metadata": {},
   "outputs": [],
   "source": [
    "# List of column headers of interest\n",
    "headers_ = ['Age', 'Gender', 'Ethnicity', 'ParentalEducation',\n",
    "            'StudyTimeWeekly', 'Absences', 'Tutoring',\n",
    "            'ParentalSupport', 'Extracurricular', 'Sports',\n",
    "            'Music', 'Volunteering']"
   ]
  },
  {
   "cell_type": "code",
   "execution_count": 69,
   "id": "169d4f8d-9003-4a68-a72d-9f90cdabb511",
   "metadata": {},
   "outputs": [],
   "source": [
    "# Function to extract two Series for each column:\n",
    "# 1. For students below the 25th percentile\n",
    "# 2. For students above the 75th percentile\n",
    "def extract_low_high_scorers(series_dict, high_score_mask, low_score_mask):\n",
    "    high_low_scorer_dict = {}\n",
    "    for col_name, series in series_dict.items():\n",
    "        high_low_tuple = (series[high_score_mask], series[low_score_mask])\n",
    "        high_low_scorer_dict[col_name] = high_low_tuple\n",
    "    return high_low_scorer_dict"
   ]
  },
  {
   "cell_type": "code",
   "execution_count": 70,
   "id": "b6550847-1932-4b41-8491-563fd0d60da8",
   "metadata": {},
   "outputs": [],
   "source": [
    "# Function to assess significant differences in student variables\n",
    "# between students who score below the 25th percentile and those who score above the 75th percentile\n",
    "def assess_significant_diff(dataframe, header_list, high_score_mask, low_score_mask):\n",
    "    result_dict = {}\n",
    "    series_dict = get_column_series(dataframe, header_list)\n",
    "    high_low_scorer_dict = extract_low_high_scorers(series_dict, high_score_mask, low_score_mask)\n",
    "    \n",
    "    for col_name, high_low_tuple in high_low_scorer_dict.items():\n",
    "        sig_diff_result = significant_diff(high_low_tuple[0], high_low_tuple[1])\n",
    "        result_dict[col_name] = sig_diff_result\n",
    "    \n",
    "    return result_dict"
   ]
  },
  {
   "cell_type": "code",
   "execution_count": 71,
   "id": "f0e65ba0-9394-43e3-b218-94c0f2349fe6",
   "metadata": {},
   "outputs": [],
   "source": [
    "# Get significant difference results for the student variables\n",
    "result = assess_significant_diff(studentData, headers_, mask_gpa_above_75, mask_gpa_below_25)"
   ]
  },
  {
   "cell_type": "code",
   "execution_count": 72,
   "id": "90d07cb6-1b7c-4360-a7f7-d1b6ee76fff0",
   "metadata": {},
   "outputs": [
    {
     "name": "stdout",
     "output_type": "stream",
     "text": [
      "Below 25% GPA Percentile Versus Above 75% Percentile GPA\n",
      "===============================================================\n",
      "================= Students Variable: Age ==========================\n",
      "T-Statistic                                           -0.052956\n",
      "P-Value                                                0.957785\n",
      "interpret      The difference is not statistically significant.\n",
      "dtype: object\n",
      "================= Students Variable: Gender ==========================\n",
      "T-Statistic                                           -0.166789\n",
      "P-Value                                                0.867593\n",
      "interpret      The difference is not statistically significant.\n",
      "dtype: object\n",
      "================= Students Variable: Ethnicity ==========================\n",
      "T-Statistic                                            1.404582\n",
      "P-Value                                                0.160666\n",
      "interpret      The difference is not statistically significant.\n",
      "dtype: object\n",
      "================= Students Variable: ParentalEducation ==========================\n",
      "T-Statistic                                           -1.632491\n",
      "P-Value                                                0.103103\n",
      "interpret      The difference is not statistically significant.\n",
      "dtype: object\n",
      "================= Students Variable: StudyTimeWeekly ==========================\n",
      "T-Statistic                                        7.901127\n",
      "P-Value                                                 0.0\n",
      "interpret      The difference is statistically significant.\n",
      "dtype: object\n",
      "================= Students Variable: Absences ==========================\n",
      "T-Statistic                                     -113.601214\n",
      "P-Value                                                 0.0\n",
      "interpret      The difference is statistically significant.\n",
      "dtype: object\n",
      "================= Students Variable: Tutoring ==========================\n",
      "T-Statistic                                        6.569855\n",
      "P-Value                                                 0.0\n",
      "interpret      The difference is statistically significant.\n",
      "dtype: object\n",
      "================= Students Variable: ParentalSupport ==========================\n",
      "T-Statistic                                         7.75219\n",
      "P-Value                                                 0.0\n",
      "interpret      The difference is statistically significant.\n",
      "dtype: object\n",
      "================= Students Variable: Extracurricular ==========================\n",
      "T-Statistic                                        4.335499\n",
      "P-Value                                            0.000017\n",
      "interpret      The difference is statistically significant.\n",
      "dtype: object\n",
      "================= Students Variable: Sports ==========================\n",
      "T-Statistic                                            1.695105\n",
      "P-Value                                                0.090577\n",
      "interpret      The difference is not statistically significant.\n",
      "dtype: object\n",
      "================= Students Variable: Music ==========================\n",
      "T-Statistic                                         3.00478\n",
      "P-Value                                            0.002769\n",
      "interpret      The difference is statistically significant.\n",
      "dtype: object\n",
      "================= Students Variable: Volunteering ==========================\n",
      "T-Statistic                                            0.079742\n",
      "P-Value                                                0.936469\n",
      "interpret      The difference is not statistically significant.\n",
      "dtype: object\n"
     ]
    }
   ],
   "source": [
    "# Print results\n",
    "print(\"Below 25% GPA Percentile Versus Above 75% Percentile GPA\")\n",
    "print(\"===============================================================\")\n",
    "for col in headers_:\n",
    "    print(f\"================= Students Variable: {col} ==========================\")\n",
    "    print(result[col])"
   ]
  },
  {
   "cell_type": "code",
   "execution_count": 73,
   "id": "41ee6a6a-e699-4b2d-8b23-c5dc02de4389",
   "metadata": {},
   "outputs": [
    {
     "name": "stdout",
     "output_type": "stream",
     "text": [
      "\n",
      "Variables with significant differences:\n",
      "StudyTimeWeekly\n",
      "Absences\n",
      "Tutoring\n",
      "ParentalSupport\n",
      "Extracurricular\n",
      "Music\n"
     ]
    }
   ],
   "source": [
    "# List variables that show a significant difference\n",
    "print(\"\\nVariables with significant differences:\")\n",
    "print(\"-----------------------------------------\"\n",
    "for col in headers_:\n",
    "    if result[col]['P-Value'] < 0.05:\n",
    "        print(col)"
   ]
  },
  {
   "cell_type": "code",
   "execution_count": null,
   "id": "f628181a-ee30-4f20-bcb1-83ddcea59de5",
   "metadata": {},
   "outputs": [],
   "source": []
  }
 ],
 "metadata": {
  "kernelspec": {
   "display_name": "Python 3 (ipykernel)",
   "language": "python",
   "name": "python3"
  },
  "language_info": {
   "codemirror_mode": {
    "name": "ipython",
    "version": 3
   },
   "file_extension": ".py",
   "mimetype": "text/x-python",
   "name": "python",
   "nbconvert_exporter": "python",
   "pygments_lexer": "ipython3",
   "version": "3.12.3"
  }
 },
 "nbformat": 4,
 "nbformat_minor": 5
}
