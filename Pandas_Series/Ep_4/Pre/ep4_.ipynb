{
 "cells": [
  {
   "cell_type": "code",
   "execution_count": 1,
   "id": "4fb52835-f05f-4468-9ac8-d0c02f3df2ac",
   "metadata": {},
   "outputs": [],
   "source": [
    "import pandas as pd"
   ]
  },
  {
   "cell_type": "code",
   "execution_count": 2,
   "id": "a677f589-151f-459f-94dd-495633ca7b15",
   "metadata": {},
   "outputs": [],
   "source": [
    "#https://github.com/colabLearn/PandasDFrameVideoScripts/blob/main/testData/Student_performance_data.csv\n",
    "gitRepo = \"https://github.com/colabLearn/PandasDFrameVideoScripts/raw/main/testData/Student_performance_data.csv\""
   ]
  },
  {
   "cell_type": "code",
   "execution_count": 3,
   "id": "85f84cf0-d13e-42f2-b31b-4fc7ef6de88b",
   "metadata": {},
   "outputs": [],
   "source": [
    "studentData = pd.read_csv(gitRepo, dtype_backend=\"pyarrow\", engine=\"pyarrow\")"
   ]
  },
  {
   "cell_type": "code",
   "execution_count": 4,
   "id": "d15d8a3e-6a91-4fef-b3a2-dd790e786ce4",
   "metadata": {},
   "outputs": [
    {
     "data": {
      "text/html": [
       "<div>\n",
       "<style scoped>\n",
       "    .dataframe tbody tr th:only-of-type {\n",
       "        vertical-align: middle;\n",
       "    }\n",
       "\n",
       "    .dataframe tbody tr th {\n",
       "        vertical-align: top;\n",
       "    }\n",
       "\n",
       "    .dataframe thead th {\n",
       "        text-align: right;\n",
       "    }\n",
       "</style>\n",
       "<table border=\"1\" class=\"dataframe\">\n",
       "  <thead>\n",
       "    <tr style=\"text-align: right;\">\n",
       "      <th></th>\n",
       "      <th>StudentID</th>\n",
       "      <th>Age</th>\n",
       "      <th>Gender</th>\n",
       "      <th>Ethnicity</th>\n",
       "      <th>ParentalEducation</th>\n",
       "      <th>StudyTimeWeekly</th>\n",
       "      <th>Absences</th>\n",
       "      <th>Tutoring</th>\n",
       "      <th>ParentalSupport</th>\n",
       "      <th>Extracurricular</th>\n",
       "      <th>Sports</th>\n",
       "      <th>Music</th>\n",
       "      <th>Volunteering</th>\n",
       "      <th>GPA</th>\n",
       "      <th>GradeClass</th>\n",
       "    </tr>\n",
       "  </thead>\n",
       "  <tbody>\n",
       "    <tr>\n",
       "      <th>0</th>\n",
       "      <td>1001</td>\n",
       "      <td>17</td>\n",
       "      <td>1</td>\n",
       "      <td>0</td>\n",
       "      <td>2</td>\n",
       "      <td>19.833723</td>\n",
       "      <td>7</td>\n",
       "      <td>1</td>\n",
       "      <td>2</td>\n",
       "      <td>0</td>\n",
       "      <td>0</td>\n",
       "      <td>1</td>\n",
       "      <td>0</td>\n",
       "      <td>2.929196</td>\n",
       "      <td>2.0</td>\n",
       "    </tr>\n",
       "    <tr>\n",
       "      <th>1</th>\n",
       "      <td>1002</td>\n",
       "      <td>18</td>\n",
       "      <td>0</td>\n",
       "      <td>0</td>\n",
       "      <td>1</td>\n",
       "      <td>15.408756</td>\n",
       "      <td>0</td>\n",
       "      <td>0</td>\n",
       "      <td>1</td>\n",
       "      <td>0</td>\n",
       "      <td>0</td>\n",
       "      <td>0</td>\n",
       "      <td>0</td>\n",
       "      <td>3.042915</td>\n",
       "      <td>1.0</td>\n",
       "    </tr>\n",
       "    <tr>\n",
       "      <th>2</th>\n",
       "      <td>1003</td>\n",
       "      <td>15</td>\n",
       "      <td>0</td>\n",
       "      <td>2</td>\n",
       "      <td>3</td>\n",
       "      <td>4.21057</td>\n",
       "      <td>26</td>\n",
       "      <td>0</td>\n",
       "      <td>2</td>\n",
       "      <td>0</td>\n",
       "      <td>0</td>\n",
       "      <td>0</td>\n",
       "      <td>0</td>\n",
       "      <td>0.112602</td>\n",
       "      <td>4.0</td>\n",
       "    </tr>\n",
       "    <tr>\n",
       "      <th>3</th>\n",
       "      <td>1004</td>\n",
       "      <td>17</td>\n",
       "      <td>1</td>\n",
       "      <td>0</td>\n",
       "      <td>3</td>\n",
       "      <td>10.028829</td>\n",
       "      <td>14</td>\n",
       "      <td>0</td>\n",
       "      <td>3</td>\n",
       "      <td>1</td>\n",
       "      <td>0</td>\n",
       "      <td>0</td>\n",
       "      <td>0</td>\n",
       "      <td>2.054218</td>\n",
       "      <td>3.0</td>\n",
       "    </tr>\n",
       "    <tr>\n",
       "      <th>4</th>\n",
       "      <td>1005</td>\n",
       "      <td>17</td>\n",
       "      <td>1</td>\n",
       "      <td>0</td>\n",
       "      <td>2</td>\n",
       "      <td>4.672495</td>\n",
       "      <td>17</td>\n",
       "      <td>1</td>\n",
       "      <td>3</td>\n",
       "      <td>0</td>\n",
       "      <td>0</td>\n",
       "      <td>0</td>\n",
       "      <td>0</td>\n",
       "      <td>1.288061</td>\n",
       "      <td>4.0</td>\n",
       "    </tr>\n",
       "    <tr>\n",
       "      <th>...</th>\n",
       "      <td>...</td>\n",
       "      <td>...</td>\n",
       "      <td>...</td>\n",
       "      <td>...</td>\n",
       "      <td>...</td>\n",
       "      <td>...</td>\n",
       "      <td>...</td>\n",
       "      <td>...</td>\n",
       "      <td>...</td>\n",
       "      <td>...</td>\n",
       "      <td>...</td>\n",
       "      <td>...</td>\n",
       "      <td>...</td>\n",
       "      <td>...</td>\n",
       "      <td>...</td>\n",
       "    </tr>\n",
       "    <tr>\n",
       "      <th>2387</th>\n",
       "      <td>3388</td>\n",
       "      <td>18</td>\n",
       "      <td>1</td>\n",
       "      <td>0</td>\n",
       "      <td>3</td>\n",
       "      <td>10.680555</td>\n",
       "      <td>2</td>\n",
       "      <td>0</td>\n",
       "      <td>4</td>\n",
       "      <td>1</td>\n",
       "      <td>0</td>\n",
       "      <td>0</td>\n",
       "      <td>0</td>\n",
       "      <td>3.455509</td>\n",
       "      <td>0.0</td>\n",
       "    </tr>\n",
       "    <tr>\n",
       "      <th>2388</th>\n",
       "      <td>3389</td>\n",
       "      <td>17</td>\n",
       "      <td>0</td>\n",
       "      <td>0</td>\n",
       "      <td>1</td>\n",
       "      <td>7.583217</td>\n",
       "      <td>4</td>\n",
       "      <td>1</td>\n",
       "      <td>4</td>\n",
       "      <td>0</td>\n",
       "      <td>1</td>\n",
       "      <td>0</td>\n",
       "      <td>0</td>\n",
       "      <td>3.27915</td>\n",
       "      <td>4.0</td>\n",
       "    </tr>\n",
       "    <tr>\n",
       "      <th>2389</th>\n",
       "      <td>3390</td>\n",
       "      <td>16</td>\n",
       "      <td>1</td>\n",
       "      <td>0</td>\n",
       "      <td>2</td>\n",
       "      <td>6.8055</td>\n",
       "      <td>20</td>\n",
       "      <td>0</td>\n",
       "      <td>2</td>\n",
       "      <td>0</td>\n",
       "      <td>0</td>\n",
       "      <td>0</td>\n",
       "      <td>1</td>\n",
       "      <td>1.142333</td>\n",
       "      <td>2.0</td>\n",
       "    </tr>\n",
       "    <tr>\n",
       "      <th>2390</th>\n",
       "      <td>3391</td>\n",
       "      <td>16</td>\n",
       "      <td>1</td>\n",
       "      <td>1</td>\n",
       "      <td>0</td>\n",
       "      <td>12.416653</td>\n",
       "      <td>17</td>\n",
       "      <td>0</td>\n",
       "      <td>2</td>\n",
       "      <td>0</td>\n",
       "      <td>1</td>\n",
       "      <td>1</td>\n",
       "      <td>0</td>\n",
       "      <td>1.803297</td>\n",
       "      <td>1.0</td>\n",
       "    </tr>\n",
       "    <tr>\n",
       "      <th>2391</th>\n",
       "      <td>3392</td>\n",
       "      <td>16</td>\n",
       "      <td>1</td>\n",
       "      <td>0</td>\n",
       "      <td>2</td>\n",
       "      <td>17.819907</td>\n",
       "      <td>13</td>\n",
       "      <td>0</td>\n",
       "      <td>2</td>\n",
       "      <td>0</td>\n",
       "      <td>0</td>\n",
       "      <td>0</td>\n",
       "      <td>1</td>\n",
       "      <td>2.140014</td>\n",
       "      <td>1.0</td>\n",
       "    </tr>\n",
       "  </tbody>\n",
       "</table>\n",
       "<p>2392 rows × 15 columns</p>\n",
       "</div>"
      ],
      "text/plain": [
       "      StudentID  Age  Gender  Ethnicity  ParentalEducation  StudyTimeWeekly  \\\n",
       "0          1001   17       1          0                  2        19.833723   \n",
       "1          1002   18       0          0                  1        15.408756   \n",
       "2          1003   15       0          2                  3          4.21057   \n",
       "3          1004   17       1          0                  3        10.028829   \n",
       "4          1005   17       1          0                  2         4.672495   \n",
       "...         ...  ...     ...        ...                ...              ...   \n",
       "2387       3388   18       1          0                  3        10.680555   \n",
       "2388       3389   17       0          0                  1         7.583217   \n",
       "2389       3390   16       1          0                  2           6.8055   \n",
       "2390       3391   16       1          1                  0        12.416653   \n",
       "2391       3392   16       1          0                  2        17.819907   \n",
       "\n",
       "      Absences  Tutoring  ParentalSupport  Extracurricular  Sports  Music  \\\n",
       "0            7         1                2                0       0      1   \n",
       "1            0         0                1                0       0      0   \n",
       "2           26         0                2                0       0      0   \n",
       "3           14         0                3                1       0      0   \n",
       "4           17         1                3                0       0      0   \n",
       "...        ...       ...              ...              ...     ...    ...   \n",
       "2387         2         0                4                1       0      0   \n",
       "2388         4         1                4                0       1      0   \n",
       "2389        20         0                2                0       0      0   \n",
       "2390        17         0                2                0       1      1   \n",
       "2391        13         0                2                0       0      0   \n",
       "\n",
       "      Volunteering       GPA  GradeClass  \n",
       "0                0  2.929196         2.0  \n",
       "1                0  3.042915         1.0  \n",
       "2                0  0.112602         4.0  \n",
       "3                0  2.054218         3.0  \n",
       "4                0  1.288061         4.0  \n",
       "...            ...       ...         ...  \n",
       "2387             0  3.455509         0.0  \n",
       "2388             0   3.27915         4.0  \n",
       "2389             1  1.142333         2.0  \n",
       "2390             0  1.803297         1.0  \n",
       "2391             1  2.140014         1.0  \n",
       "\n",
       "[2392 rows x 15 columns]"
      ]
     },
     "execution_count": 4,
     "metadata": {},
     "output_type": "execute_result"
    }
   ],
   "source": [
    "studentData"
   ]
  },
  {
   "cell_type": "code",
   "execution_count": 5,
   "id": "b092b6ad-bb40-4b69-9b14-05c38e0436f6",
   "metadata": {},
   "outputs": [],
   "source": [
    "#One thing we may want to look at regarding the ]\n",
    "#overall performance of the students is the mean GPA\n",
    "# Let's extract the studentGPA from the dataframe\n",
    "#into a Series\n",
    "studentGPA = studentData['GPA']"
   ]
  },
  {
   "cell_type": "markdown",
   "id": "28a1742e-eb7c-4775-b60b-436414e98d43",
   "metadata": {},
   "source": [
    "### Single aggregation methods"
   ]
  },
  {
   "cell_type": "code",
   "execution_count": 6,
   "id": "b5972061-e60a-4dd8-9815-c3a301c302e6",
   "metadata": {},
   "outputs": [
    {
     "data": {
      "text/plain": [
       "1.9061863027265407"
      ]
     },
     "execution_count": 6,
     "metadata": {},
     "output_type": "execute_result"
    }
   ],
   "source": [
    "#we can compute the mean GPA\n",
    "#using this aggregation method of the series\n",
    "studentGPA.mean()"
   ]
  },
  {
   "cell_type": "raw",
   "id": "3aec4f18-2072-4f50-a4a7-62e12edc80c6",
   "metadata": {},
   "source": [
    "This value represents the central point in the students \n",
    "GPA score. It provides an indication of the typical score\n",
    "among the studentGPA data. "
   ]
  },
  {
   "cell_type": "markdown",
   "id": "032e3a57-9902-4372-8eba-75bbf554e915",
   "metadata": {},
   "source": [
    "However, mean can be sensitive to outliers\n",
    "for example if you have this kind of data\n",
    "[22,24,26,31,99]"
   ]
  },
  {
   "cell_type": "code",
   "execution_count": 7,
   "id": "6a3bf4fb-dd45-46ec-a776-c5b431aef9a6",
   "metadata": {},
   "outputs": [],
   "source": [
    "testData = pd.Series([22,24,26,31,99])"
   ]
  },
  {
   "cell_type": "code",
   "execution_count": 8,
   "id": "bb370ba2-e746-4afb-a2d1-e9a7a7117117",
   "metadata": {},
   "outputs": [
    {
     "data": {
      "text/plain": [
       "40.4"
      ]
     },
     "execution_count": 8,
     "metadata": {},
     "output_type": "execute_result"
    }
   ],
   "source": [
    "testData.mean()"
   ]
  },
  {
   "cell_type": "code",
   "execution_count": 9,
   "id": "a251162d-bc25-4733-a63f-26ded46d37bf",
   "metadata": {},
   "outputs": [],
   "source": [
    "#This value does not truly \n",
    "#represent typical value of\n",
    "#data in this data set"
   ]
  },
  {
   "cell_type": "code",
   "execution_count": 10,
   "id": "61dc7445-f0d9-4133-8fc7-7cf38406688a",
   "metadata": {},
   "outputs": [
    {
     "data": {
      "text/plain": [
       "26.0"
      ]
     },
     "execution_count": 10,
     "metadata": {},
     "output_type": "execute_result"
    }
   ],
   "source": [
    "#In this case median could be \n",
    "#a better measure to indicate\n",
    "#typical values in the data\n",
    "testData.median()"
   ]
  },
  {
   "cell_type": "raw",
   "id": "b93400e1-6dd3-4529-b190-2933deacae3a",
   "metadata": {
    "vscode": {
     "languageId": "raw"
    }
   },
   "source": [
    "it indicates that the data is likely symmetrically distributed \n",
    "with minimal skewness. \n",
    "This often suggests that the dataset does not have extreme outliers \n",
    "or is not heavily skewed to one side, making the mean a reliable measure \n",
    "of central tendency. In such cases, the data tends to cluster around a \n",
    "central value, and both the mean and median effectively represent the \"center\" \n",
    "of the distribution."
   ]
  },
  {
   "cell_type": "raw",
   "id": "16182b7f-19c8-4f9d-a15d-671da1c5da75",
   "metadata": {},
   "source": [
    "A useful statistical measure to assess the asymmetry of your data distribution \n",
    "and to identify potential outliers is the skew() function. This function helps \n",
    "determine whether your data is skewed toward higher or lower values."
   ]
  },
  {
   "cell_type": "raw",
   "id": "658580f9-1ea5-4adc-aacf-197356432916",
   "metadata": {},
   "source": [
    "This is also an aggregation method; however, the PyArrow data type does not support \n",
    "the skew() function. To apply this method, we need to convert the data to the native \n",
    "Pandas 'double' type, which is equivalent to float64."
   ]
  },
  {
   "cell_type": "code",
   "execution_count": 11,
   "id": "5fffb411-df79-4549-87e7-16a62aeabab0",
   "metadata": {},
   "outputs": [
    {
     "data": {
      "text/plain": [
       "0.014525601346976186"
      ]
     },
     "execution_count": 11,
     "metadata": {},
     "output_type": "execute_result"
    }
   ],
   "source": [
    "#skew()\n",
    "studentGPA.astype('double').skew()"
   ]
  },
  {
   "cell_type": "markdown",
   "id": "200f3914-d3ae-4157-8a91-44645e511cdc",
   "metadata": {},
   "source": [
    "- 0: Perfectly symmetric distribution.\n",
    "- Positive value: Right-skewed (long tail on the right side).\n",
    "- Negative value: Left-skewed (long tail on the left side).\n",
    "In practical terms:\n",
    "- Skewness between -0.5 and 0.5: Indicates a fairly symmetric distribution.\n",
    "- Skewness between -1 and -0.5 or 0.5 and 1: Indicates moderate skewness.\n",
    "- Skewness less than -1 or greater than 1: Indicates significant skewness."
   ]
  },
  {
   "cell_type": "raw",
   "id": "8c52da71-9af0-487f-823d-e794508a1c29",
   "metadata": {},
   "source": [
    "Given that your skewness is 0.0145, it suggests that the distribution of \n",
    "of the students' GPT is almost perfectly symmetric, with negligible skew. \n",
    "This is typically considered a good indicator of normality in the dataset"
   ]
  },
  {
   "cell_type": "code",
   "execution_count": 12,
   "id": "60c172b9-4b39-4cf4-95ae-0513e934683e",
   "metadata": {},
   "outputs": [
    {
     "name": "stdout",
     "output_type": "stream",
     "text": [
      "1.9061863027265407 1.8933926937866847\n"
     ]
    }
   ],
   "source": [
    "print(studentGPA.mean(), studentGPA.median())"
   ]
  },
  {
   "cell_type": "code",
   "execution_count": 13,
   "id": "579dac40-fa6e-4f2f-87c9-def0ff6ab19a",
   "metadata": {},
   "outputs": [],
   "source": [
    "#Mean and median will be very close if data is symmetrical"
   ]
  },
  {
   "cell_type": "code",
   "execution_count": 14,
   "id": "78841888-81b5-4a45-8edf-0ee5f5b82688",
   "metadata": {},
   "outputs": [
    {
     "data": {
      "text/plain": [
       "0.0"
      ]
     },
     "execution_count": 14,
     "metadata": {},
     "output_type": "execute_result"
    }
   ],
   "source": [
    "#There are many other aggregation methods like this that we call on a series object\n",
    "#Such as:\n",
    "studentGPA.min() #Minmum value in the data"
   ]
  },
  {
   "cell_type": "code",
   "execution_count": 15,
   "id": "d7583110-2908-4cfe-b660-dd230dfcc79c",
   "metadata": {},
   "outputs": [
    {
     "data": {
      "text/plain": [
       "4.0"
      ]
     },
     "execution_count": 15,
     "metadata": {},
     "output_type": "execute_result"
    }
   ],
   "source": [
    "studentGPA.max()"
   ]
  },
  {
   "cell_type": "code",
   "execution_count": 16,
   "id": "fed12ed6-b04a-4b5b-b540-429ba52dc3a4",
   "metadata": {},
   "outputs": [
    {
     "data": {
      "text/plain": [
       "0.8375101754746491"
      ]
     },
     "execution_count": 16,
     "metadata": {},
     "output_type": "execute_result"
    }
   ],
   "source": [
    "studentGPA.var()"
   ]
  },
  {
   "cell_type": "code",
   "execution_count": 17,
   "id": "eca029ee-2726-45c7-ad4a-893016a380d1",
   "metadata": {},
   "outputs": [
    {
     "data": {
      "text/plain": [
       "0.9151558203249592"
      ]
     },
     "execution_count": 17,
     "metadata": {},
     "output_type": "execute_result"
    }
   ],
   "source": [
    "studentGPA.std()"
   ]
  },
  {
   "cell_type": "markdown",
   "id": "006e455e-1682-4068-b57f-8e8e581b4f27",
   "metadata": {},
   "source": [
    "#### Mention the .agg()"
   ]
  },
  {
   "cell_type": "markdown",
   "id": "a97b1f57-a276-4842-8264-856a46e75c7e",
   "metadata": {},
   "source": [
    "Another useful method if the .agg method\n",
    "- obviously from its name it aggregates data, like quantile,\n",
    "- it transform data depending on the argument you use to call the method\n",
    "- you can call .agg method to computer the mean of data like this:"
   ]
  },
  {
   "cell_type": "code",
   "execution_count": 18,
   "id": "05b36d31-69e9-4d2c-9170-23d9dfcfa0f3",
   "metadata": {},
   "outputs": [
    {
     "data": {
      "text/plain": [
       "1.9061863027265407"
      ]
     },
     "execution_count": 18,
     "metadata": {},
     "output_type": "execute_result"
    }
   ],
   "source": [
    "studentGPA.agg('mean')"
   ]
  },
  {
   "cell_type": "markdown",
   "id": "2283d348-8fd4-43a5-8899-a2495947f13b",
   "metadata": {},
   "source": [
    "but of course the studentGPA.mean() method is suffice \n",
    "to compute mean. Where .agg method provide a better use\n",
    "is in this example:"
   ]
  },
  {
   "cell_type": "markdown",
   "id": "66702bde-9d8a-4d14-8d2f-58ab88671033",
   "metadata": {},
   "source": [
    "##### Key Advantages of Using .agg():\n",
    "- Combine Multiple Aggregation Functions: .agg() allows you to apply multiple aggregation functions (e.g., mean, sum, min, max) simultaneously on a Series or DataFrame, enabling comprehensive summary statistics in a single step.\n",
    "- Custom Aggregation Functions: You can pass user-defined functions to .agg(), allowing for customized aggregation logic beyond the built-in methods."
   ]
  },
  {
   "cell_type": "code",
   "execution_count": 19,
   "id": "a3f761e0-5eaf-4e81-8145-1c17d1c86676",
   "metadata": {},
   "outputs": [
    {
     "data": {
      "text/plain": [
       "mean    1.906186\n",
       "var     0.837510\n",
       "max     4.000000\n",
       "min     0.000000\n",
       "Name: GPA, dtype: float64"
      ]
     },
     "execution_count": 19,
     "metadata": {},
     "output_type": "execute_result"
    }
   ],
   "source": [
    "studentGPA.agg(['mean', 'var', 'max', 'min'])"
   ]
  },
  {
   "cell_type": "code",
   "execution_count": 20,
   "id": "a1212c6c-6a1f-4877-9eaf-50345d33fbae",
   "metadata": {},
   "outputs": [
    {
     "data": {
      "text/plain": [
       "0        True\n",
       "1        True\n",
       "2       False\n",
       "3        True\n",
       "4       False\n",
       "        ...  \n",
       "2387     True\n",
       "2388     True\n",
       "2389    False\n",
       "2390     True\n",
       "2391     True\n",
       "Name: GPA, Length: 2392, dtype: bool[pyarrow]"
      ]
     },
     "execution_count": 20,
     "metadata": {},
     "output_type": "execute_result"
    }
   ],
   "source": [
    "#Let's assume we make the pass GPA =1.5\n",
    "#So that all students with GPT>=1.5 pass, otherwise fail\n",
    "studentGPA.ge(1.5)"
   ]
  },
  {
   "cell_type": "raw",
   "id": "9f0c4292-bba7-4df5-b484-f6afea3e4581",
   "metadata": {},
   "source": [
    "The output is a boolean series with True or False values. \n",
    "To get the number of students who passed, you can use the sum() \n",
    "function on the boolean series. This will return the count of \n",
    "indices where the value is True."
   ]
  },
  {
   "cell_type": "code",
   "execution_count": 21,
   "id": "6fa2265d-9cd1-4eed-9267-30bfcbcdc188",
   "metadata": {},
   "outputs": [
    {
     "data": {
      "text/plain": [
       "1544"
      ]
     },
     "execution_count": 21,
     "metadata": {},
     "output_type": "execute_result"
    }
   ],
   "source": [
    "studentGPA.ge(1.5).sum()"
   ]
  },
  {
   "cell_type": "code",
   "execution_count": 22,
   "id": "b9fcde16-b90e-4e7a-83b9-7699454e0539",
   "metadata": {},
   "outputs": [],
   "source": [
    "def no_student_score_gt_mean_gpa(s):\n",
    "    return s.gt(1.5).sum()"
   ]
  },
  {
   "cell_type": "code",
   "execution_count": 23,
   "id": "354bc925-7729-412d-b142-725b239b492e",
   "metadata": {},
   "outputs": [
    {
     "data": {
      "text/plain": [
       "mean                               1.906186\n",
       "var                                0.837510\n",
       "max                                4.000000\n",
       "min                                0.000000\n",
       "no_student_score_gt_mean_gpa    1544.000000\n",
       "Name: GPA, dtype: float64"
      ]
     },
     "execution_count": 23,
     "metadata": {},
     "output_type": "execute_result"
    }
   ],
   "source": [
    "studentGPA.agg(['mean', 'var', 'max', 'min', no_student_score_gt_mean_gpa])"
   ]
  },
  {
   "cell_type": "code",
   "execution_count": 24,
   "id": "0d1dd5f3-0b7b-4f0f-b557-cf187b82dbe1",
   "metadata": {},
   "outputs": [
    {
     "data": {
      "text/plain": [
       "64.54849498327759"
      ]
     },
     "execution_count": 24,
     "metadata": {},
     "output_type": "execute_result"
    }
   ],
   "source": [
    "#An approach to get the % of these student that pass\n",
    "(studentGPA.ge(1.5).sum()/studentGPA.count())*100"
   ]
  },
  {
   "cell_type": "raw",
   "id": "f6ca6cb5-ea1c-42ca-a674-fd64b5bca092",
   "metadata": {},
   "source": [
    "There is trick we can use with this, applying the native pandas boolean data type \n",
    "which sees True as 1 and  False as 0. \n",
    "Although this is not currently supported by bool[pyarrow]\n",
    "We can exploit this trick using pandas bool datatype"
   ]
  },
  {
   "cell_type": "code",
   "execution_count": 25,
   "id": "4033c431-9e20-478f-b440-7c6381809f40",
   "metadata": {},
   "outputs": [
    {
     "data": {
      "text/plain": [
       "count      2392.0\n",
       "mean     1.906186\n",
       "std      0.915156\n",
       "min           0.0\n",
       "25%      1.174803\n",
       "50%      1.893393\n",
       "75%      2.622216\n",
       "max           4.0\n",
       "Name: GPA, dtype: double[pyarrow]"
      ]
     },
     "execution_count": 25,
     "metadata": {},
     "output_type": "execute_result"
    }
   ],
   "source": [
    "studentGPA.describe()"
   ]
  },
  {
   "cell_type": "code",
   "execution_count": 26,
   "id": "be651ac3-44f3-4fb6-9607-5aa92805ec66",
   "metadata": {},
   "outputs": [
    {
     "data": {
      "text/plain": [
       "1.8933926937866847"
      ]
     },
     "execution_count": 26,
     "metadata": {},
     "output_type": "execute_result"
    }
   ],
   "source": [
    "studentGPA.quantile()"
   ]
  },
  {
   "cell_type": "raw",
   "id": "8f1601d0-179e-48e7-ba96-c60f6f804d90",
   "metadata": {},
   "source": [
    "The default is the 50th percentile, meaning that 50% of students in the dataset \n",
    "have a GPA below 1.890, while the other 50% have a GPA above this value."
   ]
  },
  {
   "cell_type": "code",
   "execution_count": 27,
   "id": "26d3de36-4a66-42f8-b0ca-5d1e9c4e5e67",
   "metadata": {},
   "outputs": [
    {
     "data": {
      "text/plain": [
       "1.1748034468836228"
      ]
     },
     "execution_count": 27,
     "metadata": {},
     "output_type": "execute_result"
    }
   ],
   "source": [
    "studentGPA.quantile(0.25)"
   ]
  },
  {
   "cell_type": "code",
   "execution_count": 28,
   "id": "ae3ce8d8-f43e-4578-9017-dcd206204711",
   "metadata": {},
   "outputs": [
    {
     "data": {
      "text/plain": [
       "2.622216170450785"
      ]
     },
     "execution_count": 28,
     "metadata": {},
     "output_type": "execute_result"
    }
   ],
   "source": [
    "studentGPA.quantile(0.75)"
   ]
  },
  {
   "cell_type": "code",
   "execution_count": 29,
   "id": "5e8b45b5-e732-4fcf-8ace-258c7c651adf",
   "metadata": {},
   "outputs": [
    {
     "data": {
      "text/plain": [
       "0.25    1.174803\n",
       "0.50    1.893393\n",
       "0.75    2.622216\n",
       "Name: GPA, dtype: double[pyarrow]"
      ]
     },
     "execution_count": 29,
     "metadata": {},
     "output_type": "execute_result"
    }
   ],
   "source": [
    "studentGPA.quantile([0.25, 0.5, 0.75])"
   ]
  },
  {
   "cell_type": "code",
   "execution_count": 30,
   "id": "1fe32e3a-bd10-41a8-8579-a49c54afff42",
   "metadata": {},
   "outputs": [
    {
     "data": {
      "text/plain": [
       "False"
      ]
     },
     "execution_count": 30,
     "metadata": {},
     "output_type": "execute_result"
    }
   ],
   "source": [
    "studentGPA.is_unique"
   ]
  },
  {
   "cell_type": "code",
   "execution_count": 31,
   "id": "114c5dc3-57c5-4d3e-9c13-f77426a8e07b",
   "metadata": {},
   "outputs": [],
   "source": [
    "studentID = studentData['StudentID']"
   ]
  },
  {
   "cell_type": "code",
   "execution_count": 32,
   "id": "a9d0c38f-7582-4eb5-94ed-addd02444915",
   "metadata": {},
   "outputs": [
    {
     "data": {
      "text/plain": [
       "True"
      ]
     },
     "execution_count": 32,
     "metadata": {},
     "output_type": "execute_result"
    }
   ],
   "source": [
    "studentID.is_unique"
   ]
  },
  {
   "cell_type": "raw",
   "id": "acef9f72-8d37-4e8d-b3fa-2fff39a331ef",
   "metadata": {},
   "source": [
    "Let’s consider a second example with an illustration. Suppose we want to \n",
    "check if our dataset is in increasing order, meaning each data point is \n",
    "greater than or equal to the one before it, like in this set: \n",
    "[1, 2, 3, 3, 4, 6, 7, 7, 9]."
   ]
  },
  {
   "cell_type": "code",
   "execution_count": 33,
   "id": "1ec64a4e-ff04-4e0f-9a35-bdee29576387",
   "metadata": {},
   "outputs": [],
   "source": [
    "#testSeries = pd.Series([1, 2, 3, 3, 4, 6, 7, 7, 9])  #-->This first\n",
    "testSeries = pd.Series([1, 2, 3, 3, 5, 4, 6, 7, 7, 9])\n",
    "#testSeries = pd.Series([ ])"
   ]
  },
  {
   "cell_type": "code",
   "execution_count": 34,
   "id": "a209ec63-9365-4034-9493-67aee8d3b630",
   "metadata": {},
   "outputs": [],
   "source": [
    "#We may want to write a function like this;\n",
    "def is_increasing(in_series):\n",
    "    for i in range(len(in_series)-1):\n",
    "        if(in_series[i]>in_series[i+1]):\n",
    "            return False\n",
    "    return True   "
   ]
  },
  {
   "cell_type": "code",
   "execution_count": 35,
   "id": "b61d73a5-37bb-4467-ae0b-8f57a52d87ec",
   "metadata": {},
   "outputs": [
    {
     "data": {
      "text/plain": [
       "10"
      ]
     },
     "execution_count": 35,
     "metadata": {},
     "output_type": "execute_result"
    }
   ],
   "source": [
    "len(testSeries)"
   ]
  },
  {
   "cell_type": "raw",
   "id": "f685589d-a346-4fb9-af3e-1e7cd2a2a8ec",
   "metadata": {},
   "source": [
    "This looks like a good one, but what about applying this \n",
    "property of the pandas series"
   ]
  },
  {
   "cell_type": "raw",
   "id": "7d9807d5-ed36-47d0-b577-ace499de5887",
   "metadata": {},
   "source": [
    "Another interesting method is the .quantile method. \n",
    "This method returns values that offer insights into the \n",
    "distribution of a dataset by dividing it into equal-sized \n",
    "intervals. \n",
    "Specifically, quantiles help you understand how data points \n",
    "are spread across the range of values."
   ]
  },
  {
   "cell_type": "code",
   "execution_count": 36,
   "id": "19dea0f6-0f2f-43e1-a3f0-b2d55f7bb2ca",
   "metadata": {},
   "outputs": [
    {
     "data": {
      "text/plain": [
       "1.8933926937866847"
      ]
     },
     "execution_count": 36,
     "metadata": {},
     "output_type": "execute_result"
    }
   ],
   "source": [
    "#If we call the quatile method without any arugment \n",
    "#Like this --> the output is the 50% quantile\n",
    "#That is, the median of our dataset\n",
    "studentGPA.quantile()"
   ]
  },
  {
   "cell_type": "markdown",
   "id": "e4cd89c9-98c0-436b-abf7-70cceb42306a",
   "metadata": {},
   "source": [
    "This output indicates that:\n",
    "- 50% of the students score below 1.89GPA\n",
    "- And, 50% score above it"
   ]
  },
  {
   "cell_type": "raw",
   "id": "af2179ca-368e-478b-930d-3b4ae7b12c76",
   "metadata": {},
   "source": [
    "We can specify another quantile level such:"
   ]
  },
  {
   "cell_type": "code",
   "execution_count": 37,
   "id": "89123721-dc10-471f-abd3-850797b51321",
   "metadata": {},
   "outputs": [
    {
     "data": {
      "text/plain": [
       "1.1748034468836228"
      ]
     },
     "execution_count": 37,
     "metadata": {},
     "output_type": "execute_result"
    }
   ],
   "source": [
    "#25% quantile\n",
    "studentGPA.quantile(0.25)"
   ]
  },
  {
   "cell_type": "raw",
   "id": "d83d20c6-29ce-428e-94da-19ce75a35009",
   "metadata": {},
   "source": [
    "Alternatively, you can pass a list of levels, such as 25%, 50%, and 75% quantiles. \n",
    "In this case, the output will not be a single value but a series, with the specified \n",
    "quantiles as the keys."
   ]
  },
  {
   "cell_type": "code",
   "execution_count": 38,
   "id": "2411428b-4826-452c-895c-80a746433470",
   "metadata": {},
   "outputs": [
    {
     "data": {
      "text/plain": [
       "0.25    1.174803\n",
       "0.50    1.893393\n",
       "0.75    2.622216\n",
       "Name: GPA, dtype: double[pyarrow]"
      ]
     },
     "execution_count": 38,
     "metadata": {},
     "output_type": "execute_result"
    }
   ],
   "source": [
    "studentGPA.quantile([.25,.5, .75])"
   ]
  },
  {
   "cell_type": "markdown",
   "id": "c66fb94c-0392-4b0a-b01f-9218f187e3f8",
   "metadata": {},
   "source": [
    "This output indicate that:\n",
    "- 25% of the students score below: 1.17\n",
    "- 50% score below 1.89\n",
    "- 75% score below 2.62 GPA"
   ]
  },
  {
   "cell_type": "markdown",
   "id": "809221a3-9654-40a2-865a-3d1ffe22a621",
   "metadata": {},
   "source": [
    "- 90% of the students score below:3.13 GPA"
   ]
  },
  {
   "cell_type": "code",
   "execution_count": 39,
   "id": "2fbfede1-4e1a-47a6-9638-2bf0f56b6d30",
   "metadata": {},
   "outputs": [
    {
     "data": {
      "text/plain": [
       "3.132489956156879"
      ]
     },
     "execution_count": 39,
     "metadata": {},
     "output_type": "execute_result"
    }
   ],
   "source": [
    "#You can as well specify other levels of quantiles such as:\n",
    "studentGPA.quantile(0.9)"
   ]
  },
  {
   "cell_type": "code",
   "execution_count": 40,
   "id": "992c8a1b-f408-4c65-b19b-fe875b3899b6",
   "metadata": {},
   "outputs": [
    {
     "data": {
      "text/plain": [
       "64.54849498327759"
      ]
     },
     "execution_count": 40,
     "metadata": {},
     "output_type": "execute_result"
    }
   ],
   "source": [
    "#bool[pyarrow] datatype will not support this\n",
    "studentGPA.ge(1.5).astype('bool').mul(100).mean()"
   ]
  },
  {
   "cell_type": "code",
   "execution_count": 41,
   "id": "fad249c5-bcb7-4a04-82c3-a842aa5d9fc6",
   "metadata": {},
   "outputs": [],
   "source": [
    "percentile_25_mask = studentGPA.lt(studentGPA.quantile(0.25))"
   ]
  },
  {
   "cell_type": "code",
   "execution_count": 42,
   "id": "79114cf7-328d-4ba9-91a9-70407790cb21",
   "metadata": {},
   "outputs": [],
   "source": [
    "percentile_75_mask = studentGPA.gt(studentGPA.quantile(0.75))"
   ]
  },
  {
   "cell_type": "code",
   "execution_count": 43,
   "id": "ee726771-a4e3-4d31-a989-403f935166f6",
   "metadata": {},
   "outputs": [],
   "source": [
    "studyTime_25 = studentData['StudyTimeWeekly'][percentile_25_mask]\n",
    "studyTime_75 = studentData['StudyTimeWeekly'][percentile_75_mask]"
   ]
  },
  {
   "cell_type": "code",
   "execution_count": 44,
   "id": "64374eb5-859a-4acf-ab3b-86bc901778f8",
   "metadata": {},
   "outputs": [
    {
     "data": {
      "text/plain": [
       "2         4.21057\n",
       "18      16.254658\n",
       "21      15.323142\n",
       "22       18.64888\n",
       "32       7.663289\n",
       "          ...    \n",
       "2370     2.912575\n",
       "2373    19.088954\n",
       "2375     18.92529\n",
       "2378    12.905555\n",
       "2389       6.8055\n",
       "Name: StudyTimeWeekly, Length: 598, dtype: double[pyarrow]"
      ]
     },
     "execution_count": 44,
     "metadata": {},
     "output_type": "execute_result"
    }
   ],
   "source": [
    "studyTime_25"
   ]
  },
  {
   "cell_type": "code",
   "execution_count": 45,
   "id": "50d47c11-1d99-463d-8505-3281b8f20ce0",
   "metadata": {},
   "outputs": [
    {
     "data": {
      "text/plain": [
       "0       19.833723\n",
       "1       15.408756\n",
       "5        8.191219\n",
       "6        15.60168\n",
       "8        4.562008\n",
       "          ...    \n",
       "2376     14.66723\n",
       "2377    12.749976\n",
       "2381    10.095086\n",
       "2387    10.680555\n",
       "2388     7.583217\n",
       "Name: StudyTimeWeekly, Length: 598, dtype: double[pyarrow]"
      ]
     },
     "execution_count": 45,
     "metadata": {},
     "output_type": "execute_result"
    }
   ],
   "source": [
    "studyTime_75"
   ]
  },
  {
   "cell_type": "markdown",
   "id": "3db82da1-ec67-471f-8a52-4bbe5786d7d8",
   "metadata": {},
   "source": [
    "This kind of looks neater "
   ]
  },
  {
   "cell_type": "code",
   "execution_count": 46,
   "id": "7b5e99ea-098e-4a52-bcfd-cf4332b3d9c1",
   "metadata": {},
   "outputs": [
    {
     "name": "stdout",
     "output_type": "stream",
     "text": [
      "T-Statistic:  -7.901126749992717\n",
      "P-Value:  1.3362897863540234e-14\n",
      "The difference is statistically significant.\n"
     ]
    }
   ],
   "source": [
    "from scipy import stats\n",
    "t_stat, p_value = stats.ttest_rel(studyTime_25,studyTime_75)\n",
    "print(\"T-Statistic: \", t_stat)\n",
    "print(\"P-Value: \", p_value)\n",
    "\n",
    "#Interprt the result\n",
    "alpha  = 0.05\n",
    "if p_value < alpha:\n",
    "    print(\"The difference is statistically significant.\")\n",
    "else:\n",
    "    print(\"The difference is not statistically significant.\")"
   ]
  },
  {
   "cell_type": "raw",
   "id": "db59a095-4fd8-415c-b264-973ee7a72cea",
   "metadata": {},
   "source": [
    "- T-Statistic: -7.83: This value represents the difference between the means of the two \n",
    "groups relative to the variation in the data. A large absolute value (like this one) \n",
    "suggests a significant difference between the groups.\n",
    "\n",
    "- P-Value: 1.336e-14: The p-value is extremely small, much smaller than a typical significance \n",
    "threshold (e.g., 0.05). This suggests that the observed difference between the groups is highly \n",
    "unlikely to have occurred by chance."
   ]
  },
  {
   "cell_type": "raw",
   "id": "daf84f46-3c9d-43fe-a63d-74fd4f67d4ee",
   "metadata": {},
   "source": [
    "- Interpretation:\n",
    "Given these results:\n",
    "- The negative t-statistic suggests that the mean of the first group is lower than that of the second group.\n",
    "- The extremely small p-value (close to zero) indicates strong evidence against the null hypothesis, meaning \n",
    "the difference between the two groups is statistically significant.\n",
    "- In summary, the data suggests there is a highly significant difference between the two groups you're comparing."
   ]
  },
  {
   "cell_type": "code",
   "execution_count": 47,
   "id": "80f860d9-7228-4818-82e7-5dcb06ab2664",
   "metadata": {},
   "outputs": [
    {
     "name": "stdout",
     "output_type": "stream",
     "text": [
      "False\n"
     ]
    }
   ],
   "source": [
    "print(is_increasing(testSeries))"
   ]
  },
  {
   "cell_type": "code",
   "execution_count": 48,
   "id": "65746039-7f08-4097-9c0b-bddcdce051d7",
   "metadata": {},
   "outputs": [
    {
     "data": {
      "text/plain": [
       "False"
      ]
     },
     "execution_count": 48,
     "metadata": {},
     "output_type": "execute_result"
    }
   ],
   "source": [
    "testSeries.is_monotonic_increasing"
   ]
  },
  {
   "cell_type": "code",
   "execution_count": 49,
   "id": "f075bf47-a23f-4369-b234-2ec8cbc4bd2b",
   "metadata": {},
   "outputs": [],
   "source": [
    "def significant_diff(series1, series2):\n",
    "    t_stat, p_value = stats.ttest_rel(series1, series2)\n",
    "    result = {\"T-Statistic\":t_stat, \"P-Value\":p_value}\n",
    "    \n",
    "    #Interprt the result\n",
    "    alpha  = 0.05\n",
    "    if p_value < alpha:\n",
    "        result['interpret']=\"The difference is statistically significant.\"\n",
    "    else:\n",
    "        result['interpret'] = \"The difference is not statistically significant.\"  \n",
    "\n",
    "    return pd.Series(result)"
   ]
  },
  {
   "cell_type": "code",
   "execution_count": 50,
   "id": "89dbf2c8-448d-44cf-989d-7823c4bc413c",
   "metadata": {},
   "outputs": [
    {
     "data": {
      "text/plain": [
       "T-Statistic                                       -7.901127\n",
       "P-Value                                                 0.0\n",
       "interpret      The difference is statistically significant.\n",
       "dtype: object"
      ]
     },
     "execution_count": 50,
     "metadata": {},
     "output_type": "execute_result"
    }
   ],
   "source": [
    "significant_diff(studyTime_25, studyTime_75)"
   ]
  },
  {
   "cell_type": "code",
   "execution_count": 51,
   "id": "c5a7f6f5-e148-43ab-bc1e-e0023aaf7414",
   "metadata": {},
   "outputs": [],
   "source": [
    "#We have 49.62% of the student that study more thatn 9.77hours per week"
   ]
  },
  {
   "cell_type": "code",
   "execution_count": 52,
   "id": "68f6ee15-fe38-4c6f-be0f-f53fd4a9ddff",
   "metadata": {},
   "outputs": [
    {
     "data": {
      "text/plain": [
       "count      2392.0\n",
       "mean     1.906186\n",
       "std      0.915156\n",
       "min           0.0\n",
       "25%      1.174803\n",
       "50%      1.893393\n",
       "75%      2.622216\n",
       "max           4.0\n",
       "Name: GPA, dtype: double[pyarrow]"
      ]
     },
     "execution_count": 52,
     "metadata": {},
     "output_type": "execute_result"
    }
   ],
   "source": [
    "studentGPA.describe()"
   ]
  },
  {
   "cell_type": "markdown",
   "id": "04b3dd64-e7e3-4821-a0f9-f319b72a3caf",
   "metadata": {},
   "source": [
    "Common Aggregation Functions:\n",
    "- 'mean': Mean of the values.\n",
    "- 'sum': Sum of the values.\n",
    "- 'min': Minimum value.\n",
    "- 'max': Maximum value.\n",
    "- 'median': Median value.\n",
    "- 'var': Variance.\n",
    "- 'std': Standard deviation.\n",
    "- 'count': Count of non-null values.\n",
    "- 'prod': Product of the values.\n",
    "- 'first': First value.\n",
    "- 'last': Last value."
   ]
  },
  {
   "cell_type": "markdown",
   "id": "008442bb-337f-40e0-b681-8c8ad9f78d67",
   "metadata": {},
   "source": [
    "Statistical Aggregations:\n",
    "- series.mean(): Returns the average (mean) of the values in the Series.\n",
    "- series.sum(): Computes the sum of all values in the Series.\n",
    "- series.min(): Returns the smallest value in the Series.\n",
    "- series.max(): Returns the largest value in the Series.\n",
    "- series.median(): Calculates the median (middle value) of the Series.\n",
    "- series.var():  Computes the variance of the values, which measures the spread of the values around the mean.\n",
    "- series.std(): Calculates the standard deviation, which is the square root of the variance.\n",
    "- series.prod(): Returns the product of all values in the Series.\n",
    "- series.cumsum(): Computes the cumulative sum of the values in the Series.\n",
    "- series.cumprod(): Computes the cumulative product of the values in the Series.\n",
    "Count and Frequency:\n",
    "- series.count(): Counts the number of non-NA/null entries in the Series.\n",
    "- series.value_counts(): Description: Returns a Series with counts of unique values.\n",
    "- series.nunique(): Description: Returns the number of unique values in the Series.\n",
    "Aggregation with agg():\n",
    "- series.agg(): Allows applying multiple aggregation functions to the Series at once. The output depends on the functions used (e.g., ['mean', 'sum']).\n",
    "Custom Aggregations:\n",
    "- Custom functions passed to agg():  You can pass custom functions to perform specific aggregations. The output varies based on the custom function provided. For example, lambda x: x.sum() / len(x) calculates the mean.\n"
   ]
  },
  {
   "cell_type": "markdown",
   "id": "5cf114a2-6f7d-480c-a7ae-c7664c35fa20",
   "metadata": {},
   "source": [
    "### Properties for Series\n",
    "Descriptive Statistics:\n",
    "- series. describe(): Provides a summary of statistics including count, mean, standard deviation, min, 25th percentile, median (50th percentile), 75th percentile, and max.\n",
    "- series.is_unique: Checks if all values in the Series are unique. Output is a boolean (True or False).\n",
    "- series.is_monotonic:Checks if the Series is either monotonically increasing or decreasing. Output is a boolean (True or False).\n",
    "- series.is_monotonic_increasing: Checks if the Series is monotonically increasing. Output is  boolean (True or False).\n",
    "- series.is_monotonic_decreasing: Checks if the Series is monotonically decreasing. Output is boolean (True or False).\n",
    "\n",
    "Duplicates and Unique Values:\n",
    "- series.duplicated(): Returns a boolean Series indicating whether each value is a duplicate of an earlier value.\n",
    "- series.unique(): Returns an array of unique values.\n",
    "- series.drop_duplicates(): Returns a Series with duplicate values removed. The output maintains the original order of the first occurrence.\n",
    "Additional Properties:\n",
    "- series.first(): (For GroupBy objects, not directly for Series) Returns the first value in each group.\n"
   ]
  },
  {
   "cell_type": "code",
   "execution_count": null,
   "id": "07622d26-6202-4806-81d2-2b7bf2412466",
   "metadata": {},
   "outputs": [],
   "source": []
  }
 ],
 "metadata": {
  "kernelspec": {
   "display_name": "Python 3 (ipykernel)",
   "language": "python",
   "name": "python3"
  },
  "language_info": {
   "codemirror_mode": {
    "name": "ipython",
    "version": 3
   },
   "file_extension": ".py",
   "mimetype": "text/x-python",
   "name": "python",
   "nbconvert_exporter": "python",
   "pygments_lexer": "ipython3",
   "version": "3.12.3"
  }
 },
 "nbformat": 4,
 "nbformat_minor": 5
}
